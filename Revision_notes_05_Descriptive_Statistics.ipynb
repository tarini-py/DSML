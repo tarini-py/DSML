{
  "nbformat": 4,
  "nbformat_minor": 0,
  "metadata": {
    "colab": {
      "provenance": [],
      "include_colab_link": true
    },
    "kernelspec": {
      "name": "python3",
      "display_name": "Python 3"
    },
    "language_info": {
      "name": "python"
    }
  },
  "cells": [
    {
      "cell_type": "markdown",
      "metadata": {
        "id": "view-in-github",
        "colab_type": "text"
      },
      "source": [
        "<a href=\"https://colab.research.google.com/github/tarini-py/DSML/blob/main/Revision_notes_05_Descriptive_Statistics.ipynb\" target=\"_parent\"><img src=\"https://colab.research.google.com/assets/colab-badge.svg\" alt=\"Open In Colab\"/></a>"
      ]
    },
    {
      "cell_type": "markdown",
      "source": [
        "<font color='red'>**Disclaimer: Please note that any topics that are not covered in today’s lecture will be covered in the next lecture**.</font>"
      ],
      "metadata": {
        "id": "D9s3Dl5di7uK"
      }
    },
    {
      "cell_type": "markdown",
      "source": [
        "## <font color='blue'>**Content**</font>  \n",
        "\n",
        "- **Descriptive Statistics**  \n",
        "\n",
        "  - Measures of Central Tendency  \n",
        "    - Mean\n",
        "    - Median\n",
        "    - Mode\n",
        "\n",
        "  - Measures of Variability  \n",
        "    - Range\n",
        "    - Variance\n",
        "    - Standard Deviation  \n",
        "\n",
        "- **Inferential Statistics**\n",
        "- **Weighted Average**\n",
        "  \n",
        "- **Inter Quartile Range**  \n",
        "  - Quartile\n",
        "  - Percentile\n",
        "  - Box Plot\n",
        "\n",
        "- **IQR implementation on real life dataset**\n",
        "- **Random Variables**  \n",
        "  - Discrete RV\n",
        "  - Continuous RV  \n",
        "\n",
        "\n",
        "  \n"
      ],
      "metadata": {
        "id": "iBlnv45UbHPE"
      }
    },
    {
      "cell_type": "markdown",
      "source": [
        "There are 2 types of Statistics:  \n",
        "\n",
        "\n",
        "## <font color='blue'>**1. Descriptive Statistics**</font>\n",
        "\n",
        "The word descriptive means \"**DESCRIBE**\"\n",
        "\n",
        "Descriptive statistics involve summarizing and presenting data in a meaningful way, providing a clear and concise overview of a dataset.\n",
        "\n"
      ],
      "metadata": {
        "id": "879S1Sn5b0G-"
      }
    },
    {
      "cell_type": "markdown",
      "source": [
        "**Example:**  <font color='purple'>Let say you are driving a car and you look at your dashboard.</font>\n",
        "\n",
        "\n",
        "- The speedometer shows the speed of your car at the moment is 65 km/hr. So, it is simply describing speed.\n",
        "\n",
        "- This Speedometer simply describes an event that a vehicle is moving at a certain speed so it is an example of descriptive statistics.\n",
        "\n"
      ],
      "metadata": {
        "id": "AXsEmakTy1V-"
      }
    },
    {
      "cell_type": "markdown",
      "source": [
        "## <font color='blue'>**2. Inferential Statistics**</font>\n",
        "\n",
        "Inferential statistics, on the other hand, involve making predictions, inferences, or drawing conclusions about a larger population based on a sample of data."
      ],
      "metadata": {
        "id": "9-Jh3Rxjcpt3"
      }
    },
    {
      "cell_type": "markdown",
      "source": [
        "![descr.jpg](data:image/jpeg;base64,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)\n",
        "  \n"
      ],
      "metadata": {
        "id": "HYlqWGKGeHHp"
      }
    },
    {
      "cell_type": "markdown",
      "source": [
        "<font color='purple'>Continuing the example:</font>  \n",
        "\n",
        "\n",
        "- The car's speedometer displays the current speed but **doesn't predict your arrival time** because it depends on various factors like distance and traffic.\n",
        "\n",
        "- What Google Maps will do here, is estimate arrival time based on data and assumptions, but it's only sometimes 100% accurate.   \n",
        "\n",
        "- This prediction is an example of inferential statistics, as it draws conclusions  from real-world scenarios\n",
        "\n",
        "- It is trying to **\"infer\"** something. It is concluding out of it. So, it is inferential statistics.\n"
      ],
      "metadata": {
        "id": "eRNAkI9XqthK"
      }
    },
    {
      "cell_type": "markdown",
      "source": [
        "<font color='orange'>**Conclusion:**</font>  \n",
        "\n",
        "- Descriptive statistics <font color='purple'>summarizes data</font>\n",
        "- Inferential statistics <font color='purple'>draws conclusions based on the observations.</font>  \n",
        "\n",
        "These two are the essential branches of statistics.  \n",
        "\n",
        "Let's explore descriptive statistics"
      ],
      "metadata": {
        "id": "OMxTdLKlKsGd"
      }
    },
    {
      "cell_type": "markdown",
      "source": [
        "## <font color='blue'>**Measures of Central Tendency**</font>  \n",
        "\n",
        "In statistics, we often use measures to understand and describe a set of data.  \n",
        "\n",
        "Three common measures are:  \n",
        "\n",
        "1. <font color='purple'>**Mean**</font>    \n",
        "  - The Mean is the average of all data points\n",
        "\n",
        "2. <font color='purple'>**Median**</font>    \n",
        "  - The Median is the middle value when the data is sorted.\n",
        "\n",
        "3. <font color='purple'>**Mode**</font>  \n",
        "\n",
        " - It is the observation with the highest frequency"
      ],
      "metadata": {
        "id": "PGKBwucz4lbz"
      }
    },
    {
      "cell_type": "markdown",
      "source": [
        "### <font color='purple'>**Example-1: Data Scientist's Salaries**</font>\n",
        "\n",
        "```\n",
        "Suppose we are looking for a data scientist job at FAANG.\n",
        "The sample of salaries is taken and recorded as [30L, 30L, 35L, 40L, 40L].\n",
        "What will be the salary we would be expecting?\n",
        "\n",
        "```"
      ],
      "metadata": {
        "id": "_L9Yq4TE66Jr"
      }
    },
    {
      "cell_type": "markdown",
      "source": [
        "\n",
        "**Approach:**  \n",
        "\n",
        "### <font color='purple'>**1) Mean**</font>  \n",
        "\n",
        "\n",
        "- Mean will be <font color='purple'>(30 + 30 + 35 + 40 + 40)/5 = **35 lakhs**</font>  \n",
        "\n",
        "  - **$\\Largeμ = \\frac{∑X}{N}$**    \n",
        "\n",
        "  Where,\n",
        "    - $μ$ = population mean  \n",
        "    - $∑X$ = sum of each value in the population\n",
        "    - $N$ = number of values in the population\n",
        "\n",
        "So, the mean salary in this sample is 35 lakhs. We might negotiate our expected salary around this figure.\n",
        "\n",
        "<br>\n",
        "\n",
        "\n"
      ],
      "metadata": {
        "id": "GPGmCdgSIrUP"
      }
    },
    {
      "cell_type": "markdown",
      "source": [
        "Suppose, a **new candidate comes** in the context and **his salary is 3 crores**.\n",
        "\n",
        "- **New mean** will become = <font color='purple'>(30 + 30 + 35 + 40 + 40 + 300)/6 = **79 lakhs**</font>  \n",
        "\n",
        "- The mean salary <font color='orange'>dramatically increased</font> to 79 lakhs because of the new candidate's exceptionally high salary.   \n",
        "\n",
        "\n",
        "We can observe that this **new candidate is an outlier** in the data which is affecting the mean value."
      ],
      "metadata": {
        "id": "eBWk1fDx7Khs"
      }
    },
    {
      "cell_type": "markdown",
      "source": [
        "### <font color='purple'>**2) Median**</font>\n",
        "\n",
        "Here comes the concept of **\"Median\"** to measure central tendency instead of measuring it using **Mean**.  \n",
        "\n",
        "<br>\n",
        "\n",
        "Before the new candidate joined, the <font color='purple'>Median was 35L</font>. This means that 35L was the center value when the salaries were sorted in ascending order:\n",
        "\n",
        "- **Original Salaries:** [30L, 30L, 35L, 40L, 40L]\n",
        "\n",
        "- **Sorted:** [30L, 30L, 35L, 40L, 40L]\n",
        "\n",
        "  - **Median** = $35L$ (the middle value)   \n",
        "\n",
        "<br>\n",
        "\n",
        "\n",
        "After the new candidate with a significantly higher salary arrived (300L), the new Median became 37.5 lakhs:  \n",
        "\n",
        "- **New Salaries**: [30L, 30L, 35L, 40L, 40L, 300L]\n",
        "\n",
        "- **Sorted**: [30L, 30L, 35L, 40L, 40L, 300L]\n",
        "\n",
        "  - **New Median** = (35L + 40L) / 2 = 75L / 2 = $37.5L$.  \n",
        "\n",
        "\n",
        "**Formula:**\n",
        "\n",
        "The median would be:  \n",
        "$\\Large (\\frac{n+1}{2})th$ observation's value\n",
        "\n",
        "<br>\n",
        "\n",
        "- For the **even number of observations** the median would be:  \n",
        "\n",
        "  $\\Large \\frac{(\\frac{n}{2})th \\, observation \\,+\\, (\\frac{n}{2}+1)th \\, observation}{2}$  \n",
        "<br>\n",
        "\n",
        "\n",
        "So, it would be suitable to negotiate at 37.5 lakhs.\n",
        "\n",
        "There is a <font color='purple'>**huge difference in the new mean and new median**.</font>\n",
        "\n",
        "\n",
        "\n",
        "\n",
        "<font color='orange'>**Conclusion:**</font>  \n",
        "\n",
        "- The outliers dramatically affect the Mean but the Median remains more robust and closer to the typical value of the dataset.  \n",
        "\n",
        "- Which concludes that **Median is more robust to outliers**"
      ],
      "metadata": {
        "id": "nlDw5VUOrOe4"
      }
    },
    {
      "cell_type": "markdown",
      "source": [
        "### <font color='purple'>**3) Mode**</font>  \n",
        "\n",
        "It is the observation with the highest frequency. It is **most occurring data point** in the dataset.\n",
        "\n",
        "<br>\n",
        "\n",
        "\n",
        "\n",
        "<font color='purple'>Suppose the data points are recorded as</font> - [90, 90, 90, 80, 90, 70, 95, 90]  \n",
        "\n",
        "- The mode will be **90**.  \n",
        "\n",
        "- Remember, sometimes if there are no data points that repeat, then we can implies that there is no mode\n",
        "\n",
        "\n",
        "\n",
        "There can also be **more than one mode** in the dataset.  \n",
        "\n",
        "<font color='purple'>Suppose the data points are recorded as</font> - [2, 2, 3, 3, 4]\n",
        "- We can call this **Bi-modal** with 2 and 3 as the modes"
      ],
      "metadata": {
        "id": "gvRv51ZEr2Ec"
      }
    },
    {
      "cell_type": "markdown",
      "source": [
        "## <font color='blue'>**Weighted Average: Reflecting Importance**</font>  \n",
        "  \n",
        "\n",
        "- In Weighted Average, each data point is <font color='purple'>assigned a weight</font> that represents its **importance** or relevance.\n",
        "\n",
        "- We **multiply each data point by its corresponding weight**, **sum these products**, and **then divide by the total weight**.\n",
        "\n",
        "\n",
        "\n",
        "\n",
        "\n"
      ],
      "metadata": {
        "id": "zT4itEUBJ9ut"
      }
    },
    {
      "cell_type": "markdown",
      "source": [
        "### <font color='purple'>**Example: Calculating GPA**</font>   \n",
        "\n",
        "In real life, a common application of weighted average is calculating Grade Point Average (GPA) for students.  \n",
        "\n",
        "Consider a student's course list for a semester:"
      ],
      "metadata": {
        "id": "G_PdWDfVK4Qf"
      }
    },
    {
      "cell_type": "markdown",
      "source": [
        "![wa.PNG](data:image/png;base64,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)"
      ],
      "metadata": {
        "id": "6DoXHXBuL7f8"
      }
    },
    {
      "cell_type": "markdown",
      "source": [
        "<font color='purple'>To calculate the GPA:</font>  \n",
        "\n",
        "1. Calculate the weighted score for each course by multiplying the credit by the numerical grade.  \n",
        "2. Sum up all the weighted scores.  \n",
        "3. Divide the total weighted score by the total credits.  \n",
        "\n",
        "<font color='purple'>Weighted Average will be:</font>  \n",
        "\n",
        "- **For Math:** $3(CREDIT) * 5(GRADE) = 15$\n",
        "- **For History:** $4 * 4 = 16$\n",
        "- **For Chemistry:** $3 * 5 = 15$\n",
        "- **For English:** $2 * 3 = 6$  \n",
        "\n",
        "$GPA = \\frac{Total \\ Weighted \\ Score}{Total \\ Credits}$  \n",
        "\n",
        "$= \\frac{52}{12} = 4.33$   \n",
        "\n",
        "<br>  \n",
        "\n",
        "<font color='orange'>**Conclusion**:</font>\n",
        "\n",
        "So, the student's GPA for this semester is 4.33   \n"
      ],
      "metadata": {
        "id": "9ksBkbrYL-3F"
      }
    },
    {
      "cell_type": "markdown",
      "source": [
        "## <font color='blue'>**Measures of Variability**</font>  \n",
        "\n",
        "Three common measures of variability are  \n",
        "\n",
        "1. Range  \n",
        "2. Variance  \n",
        "3. Standard Deviation"
      ],
      "metadata": {
        "id": "9FLQFWJsRsJE"
      }
    },
    {
      "cell_type": "markdown",
      "source": [
        "\n",
        "\n",
        "\n",
        "Let's discuss Range"
      ],
      "metadata": {
        "id": "s0t_Uf8lKLFq"
      }
    },
    {
      "cell_type": "markdown",
      "source": [
        "## <font color='blue'>**Range**</font>  \n",
        "\n",
        "Range is nothing but <font color='purple'>**Maximum value - Minimum value**</font>   \n",
        "\n",
        "Suppose the Salaries of some employees in a company are : [30, 30, 35, 40, 40]  \n",
        "   \n",
        "- Here, the range of the salary will be **40-30 = 10**  \n",
        "\n",
        "\n",
        "\n",
        "It describes the overall spread of the data that the difference between maximum and minimum values is 10.      \n",
        "\n",
        "<br>\n",
        "\n",
        "\n",
        "\n",
        "\n"
      ],
      "metadata": {
        "id": "V_vhmjuuMnz6"
      }
    },
    {
      "cell_type": "markdown",
      "source": [
        "> <font color='purple'>**Q1. What will happen if there is an \"Outlier\" in the data?**</font>\n",
        "\n",
        "- Let the salaries be: [30, 30, 35, 40, 40, 300]  \n",
        "\n",
        "  <font color='purple'>New range will be **300 - 30 = 270**</font>  \n",
        "\n",
        "- As we can see one outlier can destroy the range of the dataset.  \n",
        "\n",
        "We can conclude that <font color='purple'>**Range of the data is also not robust to the outliers like the Mean**</font>  "
      ],
      "metadata": {
        "id": "G5qlA26x2YY9"
      }
    },
    {
      "cell_type": "markdown",
      "source": [
        "To solve this issue, statisticians came up with the metric called \"**Inter Quartile Range**\".   \n"
      ],
      "metadata": {
        "id": "1v9yMZqzKZz-"
      }
    },
    {
      "cell_type": "markdown",
      "source": [
        "## <font color='blue'>**Inter Quartile Range**</font>  \n",
        "\n",
        "IQR is the metric that provides a robust way to measure the spread of a dataset.  \n",
        "\n",
        "- The IQR is the range between the first quartile (Q1) and the third quartile (Q3) of a dataset.  \n",
        "- Means, <font color='purple'>**$IQR = Q3 - Q1$**</font>  \n",
        "\n",
        "> <font color='purple'>What is Quartiles?</font>  \n"
      ],
      "metadata": {
        "id": "Q7E6kZWEMn5i"
      }
    },
    {
      "cell_type": "markdown",
      "source": [
        "### <font color='purple'>**Quartiles**</font>\n",
        "\n",
        "It is the value which <font color='purple'>divides the dataset into four equal parts.</font>  \n",
        "\n",
        "There are three quartiles, **Q1, Q2, and Q3**.  \n",
        "\n",
        "- <font color='purple'>Q1 represents the 25th percentile</font>, meaning that 25% of the data falls below this value.  \n",
        "\n",
        "- <font color='purple'>Q2 is the median and represents the 50th percentile</font>, dividing the data into two equal halves.  \n",
        "\n",
        "- <font color='purple'>Q3 represents the 75th percentile</font>, meaning that 75% of the data falls below this value.  \n",
        "\n"
      ],
      "metadata": {
        "id": "qb0cs9nP3g8U"
      }
    },
    {
      "cell_type": "markdown",
      "source": [
        "Suppose we have this data with us,  \n",
        "\n",
        "> **What each values are representing here?**\n"
      ],
      "metadata": {
        "id": "zoUbniTzQb50"
      }
    },
    {
      "cell_type": "markdown",
      "source": [
        "![height.PNG](data:image/png;base64,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)"
      ],
      "metadata": {
        "id": "fRCtEj_YQfHy"
      }
    },
    {
      "cell_type": "markdown",
      "source": [
        "\n",
        "- 0.25 represents Q1 or 25th percentile:  \n",
        "\n",
        "  - It means that 0.25% of people are shorter than this lady  \n",
        "\n",
        "- 0.5 represents Q2 or 50th percentile:  \n",
        "\n",
        "  - It means that 0.5% or half of the people in the dataset are shorter than this guy  \n",
        "\n",
        "- 0.75 represents Q3 or 75th Percentile:  \n",
        "\n",
        "  - It means that 0.75% of people are shorter than this guy  \n",
        "\n",
        "- Maximum or 1:  \n",
        "\n",
        "  - It means that 100% of people are shorter than this lady or she is the tallest person in the dataset.\n",
        "\n",
        "\n"
      ],
      "metadata": {
        "id": "UA6U-4eXQzyo"
      }
    },
    {
      "cell_type": "markdown",
      "source": [
        "> <font color='purple'>Q.What is percentile?</font>  \n",
        "\n",
        "### <font color='purple'>**Percentile**</font>  \n",
        "\n",
        "A value that tells us that some **\"p%\" observations are less than that value**\n",
        "\n",
        "- Let's say the value occurring at 50 Percentile is 68. We can conclude that 50% of the data is less than 68  \n",
        "\n",
        "One more example:  \n",
        "\n",
        "> <font color='purple'>Suppose you scored 99 percentile in your 10th boards, what does this mean?</font>   \n",
        "\n",
        "- It indicates that **99% of students scored less marks than you**."
      ],
      "metadata": {
        "id": "R-0cFZY-67yj"
      }
    },
    {
      "cell_type": "markdown",
      "source": [
        "The graphical representation of a dataset's summary statistics, including the median, quartiles, and potential outliers. Box plot comes into the picture  \n",
        "\n",
        "### <font color='purple'>**Box Plot**</font>  \n",
        "\n",
        "It provides a visual way to understand the distribution and spread of data.  \n",
        "\n",
        "\n",
        "**Box:**   \n",
        "\n",
        "- The box itself represents the interquartile range (IQR),  \n",
        "It is divided into two parts, the lower (bottom) quartile (Q1) and the upper (top) quartile (Q3).   \n",
        "\n",
        "- The length of the box is determined by the range between Q1 and Q3.  \n",
        "\n",
        "**Line (Median):**  \n",
        "\n",
        "-  Inside the box, a line or bar is drawn that represents the median, which is the middle value of the dataset when it's ordered.   \n",
        "\n",
        "**Whiskers:**   \n",
        "\n",
        "- Two lines, or \"whiskers,\" extend from the box in both directions.  \n",
        "  - The Value of Lower whiskers is determined by Q1 - 1.5(IQR). It is the minimum value of the range\n",
        "  - The Value of Upper whiskers is determined by Q3 + 1.5(IQR). It is the maximum value of the range  \n",
        "\n",
        "**Outliers:**   \n",
        "\n",
        "- Data points that fall outside the whiskers are considered outliers.  "
      ],
      "metadata": {
        "id": "NSSxea8d8lh0"
      }
    },
    {
      "cell_type": "markdown",
      "source": [
        "**Example**  \n",
        "\n",
        "We have a sorted data, the box plot of the data will look like this"
      ],
      "metadata": {
        "id": "qFRC7CttA4kv"
      }
    },
    {
      "cell_type": "markdown",
      "source": [
        "![boxplot.PNG](data:image/png;base64,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)"
      ],
      "metadata": {
        "id": "R8eqOa4rBQQI"
      }
    },
    {
      "cell_type": "markdown",
      "source": [
        "## <font color='purple'>**Variance**</font>  \n",
        "\n",
        "Variance, <font color='purple'>measures the spread or dispersion of the values</font> of a random variable around its mean.   \n",
        "\n",
        "It quantifies how much **individual values deviate from the mean**.  \n",
        "\n",
        "- A **higher variance** indicates that the <font color='purple'>values are more spread out from the mean</font>.\n",
        "\n",
        "- While a **lower variance** suggests that the <font color='purple'>values are closer to the mean</font>.  \n",
        "\n",
        "We can plot the histogram to visualise the spread or distribution of the data"
      ],
      "metadata": {
        "id": "00znbHfK9kIz"
      }
    },
    {
      "cell_type": "code",
      "source": [
        "import numpy as np\n",
        "import pandas as pd\n",
        "import seaborn as sns\n",
        "import matplotlib.pyplot as plt"
      ],
      "metadata": {
        "id": "uYcSLdgDoNgP"
      },
      "execution_count": null,
      "outputs": []
    },
    {
      "cell_type": "code",
      "source": [
        "!wget --no-check-certificate https://drive.google.com/uc?id=1Mrt008vkE4nVb1zE4f06_rtq70QPfkIo -O weight-height.csv"
      ],
      "metadata": {
        "colab": {
          "base_uri": "https://localhost:8080/"
        },
        "id": "8Wv75vQLoNgP",
        "outputId": "ddc804c9-5834-4ab3-8d85-844779455c0d"
      },
      "execution_count": null,
      "outputs": [
        {
          "output_type": "stream",
          "name": "stdout",
          "text": [
            "--2024-01-18 09:39:16--  https://drive.google.com/uc?id=1Mrt008vkE4nVb1zE4f06_rtq70QPfkIo\n",
            "Resolving drive.google.com (drive.google.com)... 172.253.123.100, 172.253.123.101, 172.253.123.138, ...\n",
            "Connecting to drive.google.com (drive.google.com)|172.253.123.100|:443... connected.\n",
            "HTTP request sent, awaiting response... 303 See Other\n",
            "Location: https://drive.usercontent.google.com/download?id=1Mrt008vkE4nVb1zE4f06_rtq70QPfkIo [following]\n",
            "--2024-01-18 09:39:16--  https://drive.usercontent.google.com/download?id=1Mrt008vkE4nVb1zE4f06_rtq70QPfkIo\n",
            "Resolving drive.usercontent.google.com (drive.usercontent.google.com)... 74.125.196.132, 2607:f8b0:400c:c36::84\n",
            "Connecting to drive.usercontent.google.com (drive.usercontent.google.com)|74.125.196.132|:443... connected.\n",
            "HTTP request sent, awaiting response... 200 OK\n",
            "Length: 428120 (418K) [application/octet-stream]\n",
            "Saving to: ‘weight-height.csv’\n",
            "\n",
            "weight-height.csv   100%[===================>] 418.09K  --.-KB/s    in 0.004s  \n",
            "\n",
            "2024-01-18 09:39:16 (91.3 MB/s) - ‘weight-height.csv’ saved [428120/428120]\n",
            "\n"
          ]
        }
      ]
    },
    {
      "cell_type": "code",
      "source": [
        "df_hw = pd.read_csv(\"weight-height.csv\")"
      ],
      "metadata": {
        "id": "3bWGOzL6oNgQ"
      },
      "execution_count": null,
      "outputs": []
    },
    {
      "cell_type": "code",
      "source": [
        "df_hw.head()"
      ],
      "metadata": {
        "colab": {
          "base_uri": "https://localhost:8080/",
          "height": 206
        },
        "id": "GgpWwWzNoNgQ",
        "outputId": "05dc2d88-a5f9-44aa-a14a-7bdf7819dea4"
      },
      "execution_count": null,
      "outputs": [
        {
          "output_type": "execute_result",
          "data": {
            "text/plain": [
              "  Gender     Height      Weight\n",
              "0   Male  73.847017  241.893563\n",
              "1   Male  68.781904  162.310473\n",
              "2   Male  74.110105  212.740856\n",
              "3   Male  71.730978  220.042470\n",
              "4   Male  69.881796  206.349801"
            ],
            "text/html": [
              "\n",
              "  <div id=\"df-211ed2fb-a78f-4695-b517-9959d157f57c\" class=\"colab-df-container\">\n",
              "    <div>\n",
              "<style scoped>\n",
              "    .dataframe tbody tr th:only-of-type {\n",
              "        vertical-align: middle;\n",
              "    }\n",
              "\n",
              "    .dataframe tbody tr th {\n",
              "        vertical-align: top;\n",
              "    }\n",
              "\n",
              "    .dataframe thead th {\n",
              "        text-align: right;\n",
              "    }\n",
              "</style>\n",
              "<table border=\"1\" class=\"dataframe\">\n",
              "  <thead>\n",
              "    <tr style=\"text-align: right;\">\n",
              "      <th></th>\n",
              "      <th>Gender</th>\n",
              "      <th>Height</th>\n",
              "      <th>Weight</th>\n",
              "    </tr>\n",
              "  </thead>\n",
              "  <tbody>\n",
              "    <tr>\n",
              "      <th>0</th>\n",
              "      <td>Male</td>\n",
              "      <td>73.847017</td>\n",
              "      <td>241.893563</td>\n",
              "    </tr>\n",
              "    <tr>\n",
              "      <th>1</th>\n",
              "      <td>Male</td>\n",
              "      <td>68.781904</td>\n",
              "      <td>162.310473</td>\n",
              "    </tr>\n",
              "    <tr>\n",
              "      <th>2</th>\n",
              "      <td>Male</td>\n",
              "      <td>74.110105</td>\n",
              "      <td>212.740856</td>\n",
              "    </tr>\n",
              "    <tr>\n",
              "      <th>3</th>\n",
              "      <td>Male</td>\n",
              "      <td>71.730978</td>\n",
              "      <td>220.042470</td>\n",
              "    </tr>\n",
              "    <tr>\n",
              "      <th>4</th>\n",
              "      <td>Male</td>\n",
              "      <td>69.881796</td>\n",
              "      <td>206.349801</td>\n",
              "    </tr>\n",
              "  </tbody>\n",
              "</table>\n",
              "</div>\n",
              "    <div class=\"colab-df-buttons\">\n",
              "\n",
              "  <div class=\"colab-df-container\">\n",
              "    <button class=\"colab-df-convert\" onclick=\"convertToInteractive('df-211ed2fb-a78f-4695-b517-9959d157f57c')\"\n",
              "            title=\"Convert this dataframe to an interactive table.\"\n",
              "            style=\"display:none;\">\n",
              "\n",
              "  <svg xmlns=\"http://www.w3.org/2000/svg\" height=\"24px\" viewBox=\"0 -960 960 960\">\n",
              "    <path d=\"M120-120v-720h720v720H120Zm60-500h600v-160H180v160Zm220 220h160v-160H400v160Zm0 220h160v-160H400v160ZM180-400h160v-160H180v160Zm440 0h160v-160H620v160ZM180-180h160v-160H180v160Zm440 0h160v-160H620v160Z\"/>\n",
              "  </svg>\n",
              "    </button>\n",
              "\n",
              "  <style>\n",
              "    .colab-df-container {\n",
              "      display:flex;\n",
              "      gap: 12px;\n",
              "    }\n",
              "\n",
              "    .colab-df-convert {\n",
              "      background-color: #E8F0FE;\n",
              "      border: none;\n",
              "      border-radius: 50%;\n",
              "      cursor: pointer;\n",
              "      display: none;\n",
              "      fill: #1967D2;\n",
              "      height: 32px;\n",
              "      padding: 0 0 0 0;\n",
              "      width: 32px;\n",
              "    }\n",
              "\n",
              "    .colab-df-convert:hover {\n",
              "      background-color: #E2EBFA;\n",
              "      box-shadow: 0px 1px 2px rgba(60, 64, 67, 0.3), 0px 1px 3px 1px rgba(60, 64, 67, 0.15);\n",
              "      fill: #174EA6;\n",
              "    }\n",
              "\n",
              "    .colab-df-buttons div {\n",
              "      margin-bottom: 4px;\n",
              "    }\n",
              "\n",
              "    [theme=dark] .colab-df-convert {\n",
              "      background-color: #3B4455;\n",
              "      fill: #D2E3FC;\n",
              "    }\n",
              "\n",
              "    [theme=dark] .colab-df-convert:hover {\n",
              "      background-color: #434B5C;\n",
              "      box-shadow: 0px 1px 3px 1px rgba(0, 0, 0, 0.15);\n",
              "      filter: drop-shadow(0px 1px 2px rgba(0, 0, 0, 0.3));\n",
              "      fill: #FFFFFF;\n",
              "    }\n",
              "  </style>\n",
              "\n",
              "    <script>\n",
              "      const buttonEl =\n",
              "        document.querySelector('#df-211ed2fb-a78f-4695-b517-9959d157f57c button.colab-df-convert');\n",
              "      buttonEl.style.display =\n",
              "        google.colab.kernel.accessAllowed ? 'block' : 'none';\n",
              "\n",
              "      async function convertToInteractive(key) {\n",
              "        const element = document.querySelector('#df-211ed2fb-a78f-4695-b517-9959d157f57c');\n",
              "        const dataTable =\n",
              "          await google.colab.kernel.invokeFunction('convertToInteractive',\n",
              "                                                    [key], {});\n",
              "        if (!dataTable) return;\n",
              "\n",
              "        const docLinkHtml = 'Like what you see? Visit the ' +\n",
              "          '<a target=\"_blank\" href=https://colab.research.google.com/notebooks/data_table.ipynb>data table notebook</a>'\n",
              "          + ' to learn more about interactive tables.';\n",
              "        element.innerHTML = '';\n",
              "        dataTable['output_type'] = 'display_data';\n",
              "        await google.colab.output.renderOutput(dataTable, element);\n",
              "        const docLink = document.createElement('div');\n",
              "        docLink.innerHTML = docLinkHtml;\n",
              "        element.appendChild(docLink);\n",
              "      }\n",
              "    </script>\n",
              "  </div>\n",
              "\n",
              "\n",
              "<div id=\"df-8f543e4a-55d8-42d1-9a84-2ed15549739b\">\n",
              "  <button class=\"colab-df-quickchart\" onclick=\"quickchart('df-8f543e4a-55d8-42d1-9a84-2ed15549739b')\"\n",
              "            title=\"Suggest charts\"\n",
              "            style=\"display:none;\">\n",
              "\n",
              "<svg xmlns=\"http://www.w3.org/2000/svg\" height=\"24px\"viewBox=\"0 0 24 24\"\n",
              "     width=\"24px\">\n",
              "    <g>\n",
              "        <path d=\"M19 3H5c-1.1 0-2 .9-2 2v14c0 1.1.9 2 2 2h14c1.1 0 2-.9 2-2V5c0-1.1-.9-2-2-2zM9 17H7v-7h2v7zm4 0h-2V7h2v10zm4 0h-2v-4h2v4z\"/>\n",
              "    </g>\n",
              "</svg>\n",
              "  </button>\n",
              "\n",
              "<style>\n",
              "  .colab-df-quickchart {\n",
              "      --bg-color: #E8F0FE;\n",
              "      --fill-color: #1967D2;\n",
              "      --hover-bg-color: #E2EBFA;\n",
              "      --hover-fill-color: #174EA6;\n",
              "      --disabled-fill-color: #AAA;\n",
              "      --disabled-bg-color: #DDD;\n",
              "  }\n",
              "\n",
              "  [theme=dark] .colab-df-quickchart {\n",
              "      --bg-color: #3B4455;\n",
              "      --fill-color: #D2E3FC;\n",
              "      --hover-bg-color: #434B5C;\n",
              "      --hover-fill-color: #FFFFFF;\n",
              "      --disabled-bg-color: #3B4455;\n",
              "      --disabled-fill-color: #666;\n",
              "  }\n",
              "\n",
              "  .colab-df-quickchart {\n",
              "    background-color: var(--bg-color);\n",
              "    border: none;\n",
              "    border-radius: 50%;\n",
              "    cursor: pointer;\n",
              "    display: none;\n",
              "    fill: var(--fill-color);\n",
              "    height: 32px;\n",
              "    padding: 0;\n",
              "    width: 32px;\n",
              "  }\n",
              "\n",
              "  .colab-df-quickchart:hover {\n",
              "    background-color: var(--hover-bg-color);\n",
              "    box-shadow: 0 1px 2px rgba(60, 64, 67, 0.3), 0 1px 3px 1px rgba(60, 64, 67, 0.15);\n",
              "    fill: var(--button-hover-fill-color);\n",
              "  }\n",
              "\n",
              "  .colab-df-quickchart-complete:disabled,\n",
              "  .colab-df-quickchart-complete:disabled:hover {\n",
              "    background-color: var(--disabled-bg-color);\n",
              "    fill: var(--disabled-fill-color);\n",
              "    box-shadow: none;\n",
              "  }\n",
              "\n",
              "  .colab-df-spinner {\n",
              "    border: 2px solid var(--fill-color);\n",
              "    border-color: transparent;\n",
              "    border-bottom-color: var(--fill-color);\n",
              "    animation:\n",
              "      spin 1s steps(1) infinite;\n",
              "  }\n",
              "\n",
              "  @keyframes spin {\n",
              "    0% {\n",
              "      border-color: transparent;\n",
              "      border-bottom-color: var(--fill-color);\n",
              "      border-left-color: var(--fill-color);\n",
              "    }\n",
              "    20% {\n",
              "      border-color: transparent;\n",
              "      border-left-color: var(--fill-color);\n",
              "      border-top-color: var(--fill-color);\n",
              "    }\n",
              "    30% {\n",
              "      border-color: transparent;\n",
              "      border-left-color: var(--fill-color);\n",
              "      border-top-color: var(--fill-color);\n",
              "      border-right-color: var(--fill-color);\n",
              "    }\n",
              "    40% {\n",
              "      border-color: transparent;\n",
              "      border-right-color: var(--fill-color);\n",
              "      border-top-color: var(--fill-color);\n",
              "    }\n",
              "    60% {\n",
              "      border-color: transparent;\n",
              "      border-right-color: var(--fill-color);\n",
              "    }\n",
              "    80% {\n",
              "      border-color: transparent;\n",
              "      border-right-color: var(--fill-color);\n",
              "      border-bottom-color: var(--fill-color);\n",
              "    }\n",
              "    90% {\n",
              "      border-color: transparent;\n",
              "      border-bottom-color: var(--fill-color);\n",
              "    }\n",
              "  }\n",
              "</style>\n",
              "\n",
              "  <script>\n",
              "    async function quickchart(key) {\n",
              "      const quickchartButtonEl =\n",
              "        document.querySelector('#' + key + ' button');\n",
              "      quickchartButtonEl.disabled = true;  // To prevent multiple clicks.\n",
              "      quickchartButtonEl.classList.add('colab-df-spinner');\n",
              "      try {\n",
              "        const charts = await google.colab.kernel.invokeFunction(\n",
              "            'suggestCharts', [key], {});\n",
              "      } catch (error) {\n",
              "        console.error('Error during call to suggestCharts:', error);\n",
              "      }\n",
              "      quickchartButtonEl.classList.remove('colab-df-spinner');\n",
              "      quickchartButtonEl.classList.add('colab-df-quickchart-complete');\n",
              "    }\n",
              "    (() => {\n",
              "      let quickchartButtonEl =\n",
              "        document.querySelector('#df-8f543e4a-55d8-42d1-9a84-2ed15549739b button');\n",
              "      quickchartButtonEl.style.display =\n",
              "        google.colab.kernel.accessAllowed ? 'block' : 'none';\n",
              "    })();\n",
              "  </script>\n",
              "</div>\n",
              "    </div>\n",
              "  </div>\n"
            ]
          },
          "metadata": {},
          "execution_count": 4
        }
      ]
    },
    {
      "cell_type": "code",
      "source": [
        "df_hw.describe()"
      ],
      "metadata": {
        "colab": {
          "base_uri": "https://localhost:8080/",
          "height": 300
        },
        "id": "pphifQWAoNgQ",
        "outputId": "e1898dc1-e889-4733-b865-847c87f6f31f"
      },
      "execution_count": null,
      "outputs": [
        {
          "output_type": "execute_result",
          "data": {
            "text/plain": [
              "             Height        Weight\n",
              "count  10000.000000  10000.000000\n",
              "mean      66.367560    161.440357\n",
              "std        3.847528     32.108439\n",
              "min       54.263133     64.700127\n",
              "25%       63.505620    135.818051\n",
              "50%       66.318070    161.212928\n",
              "75%       69.174262    187.169525\n",
              "max       78.998742    269.989699"
            ],
            "text/html": [
              "\n",
              "  <div id=\"df-1fa762ff-4fa2-4948-b46d-60ae7825ff26\" class=\"colab-df-container\">\n",
              "    <div>\n",
              "<style scoped>\n",
              "    .dataframe tbody tr th:only-of-type {\n",
              "        vertical-align: middle;\n",
              "    }\n",
              "\n",
              "    .dataframe tbody tr th {\n",
              "        vertical-align: top;\n",
              "    }\n",
              "\n",
              "    .dataframe thead th {\n",
              "        text-align: right;\n",
              "    }\n",
              "</style>\n",
              "<table border=\"1\" class=\"dataframe\">\n",
              "  <thead>\n",
              "    <tr style=\"text-align: right;\">\n",
              "      <th></th>\n",
              "      <th>Height</th>\n",
              "      <th>Weight</th>\n",
              "    </tr>\n",
              "  </thead>\n",
              "  <tbody>\n",
              "    <tr>\n",
              "      <th>count</th>\n",
              "      <td>10000.000000</td>\n",
              "      <td>10000.000000</td>\n",
              "    </tr>\n",
              "    <tr>\n",
              "      <th>mean</th>\n",
              "      <td>66.367560</td>\n",
              "      <td>161.440357</td>\n",
              "    </tr>\n",
              "    <tr>\n",
              "      <th>std</th>\n",
              "      <td>3.847528</td>\n",
              "      <td>32.108439</td>\n",
              "    </tr>\n",
              "    <tr>\n",
              "      <th>min</th>\n",
              "      <td>54.263133</td>\n",
              "      <td>64.700127</td>\n",
              "    </tr>\n",
              "    <tr>\n",
              "      <th>25%</th>\n",
              "      <td>63.505620</td>\n",
              "      <td>135.818051</td>\n",
              "    </tr>\n",
              "    <tr>\n",
              "      <th>50%</th>\n",
              "      <td>66.318070</td>\n",
              "      <td>161.212928</td>\n",
              "    </tr>\n",
              "    <tr>\n",
              "      <th>75%</th>\n",
              "      <td>69.174262</td>\n",
              "      <td>187.169525</td>\n",
              "    </tr>\n",
              "    <tr>\n",
              "      <th>max</th>\n",
              "      <td>78.998742</td>\n",
              "      <td>269.989699</td>\n",
              "    </tr>\n",
              "  </tbody>\n",
              "</table>\n",
              "</div>\n",
              "    <div class=\"colab-df-buttons\">\n",
              "\n",
              "  <div class=\"colab-df-container\">\n",
              "    <button class=\"colab-df-convert\" onclick=\"convertToInteractive('df-1fa762ff-4fa2-4948-b46d-60ae7825ff26')\"\n",
              "            title=\"Convert this dataframe to an interactive table.\"\n",
              "            style=\"display:none;\">\n",
              "\n",
              "  <svg xmlns=\"http://www.w3.org/2000/svg\" height=\"24px\" viewBox=\"0 -960 960 960\">\n",
              "    <path d=\"M120-120v-720h720v720H120Zm60-500h600v-160H180v160Zm220 220h160v-160H400v160Zm0 220h160v-160H400v160ZM180-400h160v-160H180v160Zm440 0h160v-160H620v160ZM180-180h160v-160H180v160Zm440 0h160v-160H620v160Z\"/>\n",
              "  </svg>\n",
              "    </button>\n",
              "\n",
              "  <style>\n",
              "    .colab-df-container {\n",
              "      display:flex;\n",
              "      gap: 12px;\n",
              "    }\n",
              "\n",
              "    .colab-df-convert {\n",
              "      background-color: #E8F0FE;\n",
              "      border: none;\n",
              "      border-radius: 50%;\n",
              "      cursor: pointer;\n",
              "      display: none;\n",
              "      fill: #1967D2;\n",
              "      height: 32px;\n",
              "      padding: 0 0 0 0;\n",
              "      width: 32px;\n",
              "    }\n",
              "\n",
              "    .colab-df-convert:hover {\n",
              "      background-color: #E2EBFA;\n",
              "      box-shadow: 0px 1px 2px rgba(60, 64, 67, 0.3), 0px 1px 3px 1px rgba(60, 64, 67, 0.15);\n",
              "      fill: #174EA6;\n",
              "    }\n",
              "\n",
              "    .colab-df-buttons div {\n",
              "      margin-bottom: 4px;\n",
              "    }\n",
              "\n",
              "    [theme=dark] .colab-df-convert {\n",
              "      background-color: #3B4455;\n",
              "      fill: #D2E3FC;\n",
              "    }\n",
              "\n",
              "    [theme=dark] .colab-df-convert:hover {\n",
              "      background-color: #434B5C;\n",
              "      box-shadow: 0px 1px 3px 1px rgba(0, 0, 0, 0.15);\n",
              "      filter: drop-shadow(0px 1px 2px rgba(0, 0, 0, 0.3));\n",
              "      fill: #FFFFFF;\n",
              "    }\n",
              "  </style>\n",
              "\n",
              "    <script>\n",
              "      const buttonEl =\n",
              "        document.querySelector('#df-1fa762ff-4fa2-4948-b46d-60ae7825ff26 button.colab-df-convert');\n",
              "      buttonEl.style.display =\n",
              "        google.colab.kernel.accessAllowed ? 'block' : 'none';\n",
              "\n",
              "      async function convertToInteractive(key) {\n",
              "        const element = document.querySelector('#df-1fa762ff-4fa2-4948-b46d-60ae7825ff26');\n",
              "        const dataTable =\n",
              "          await google.colab.kernel.invokeFunction('convertToInteractive',\n",
              "                                                    [key], {});\n",
              "        if (!dataTable) return;\n",
              "\n",
              "        const docLinkHtml = 'Like what you see? Visit the ' +\n",
              "          '<a target=\"_blank\" href=https://colab.research.google.com/notebooks/data_table.ipynb>data table notebook</a>'\n",
              "          + ' to learn more about interactive tables.';\n",
              "        element.innerHTML = '';\n",
              "        dataTable['output_type'] = 'display_data';\n",
              "        await google.colab.output.renderOutput(dataTable, element);\n",
              "        const docLink = document.createElement('div');\n",
              "        docLink.innerHTML = docLinkHtml;\n",
              "        element.appendChild(docLink);\n",
              "      }\n",
              "    </script>\n",
              "  </div>\n",
              "\n",
              "\n",
              "<div id=\"df-93031e37-7865-4762-a871-75765365da71\">\n",
              "  <button class=\"colab-df-quickchart\" onclick=\"quickchart('df-93031e37-7865-4762-a871-75765365da71')\"\n",
              "            title=\"Suggest charts\"\n",
              "            style=\"display:none;\">\n",
              "\n",
              "<svg xmlns=\"http://www.w3.org/2000/svg\" height=\"24px\"viewBox=\"0 0 24 24\"\n",
              "     width=\"24px\">\n",
              "    <g>\n",
              "        <path d=\"M19 3H5c-1.1 0-2 .9-2 2v14c0 1.1.9 2 2 2h14c1.1 0 2-.9 2-2V5c0-1.1-.9-2-2-2zM9 17H7v-7h2v7zm4 0h-2V7h2v10zm4 0h-2v-4h2v4z\"/>\n",
              "    </g>\n",
              "</svg>\n",
              "  </button>\n",
              "\n",
              "<style>\n",
              "  .colab-df-quickchart {\n",
              "      --bg-color: #E8F0FE;\n",
              "      --fill-color: #1967D2;\n",
              "      --hover-bg-color: #E2EBFA;\n",
              "      --hover-fill-color: #174EA6;\n",
              "      --disabled-fill-color: #AAA;\n",
              "      --disabled-bg-color: #DDD;\n",
              "  }\n",
              "\n",
              "  [theme=dark] .colab-df-quickchart {\n",
              "      --bg-color: #3B4455;\n",
              "      --fill-color: #D2E3FC;\n",
              "      --hover-bg-color: #434B5C;\n",
              "      --hover-fill-color: #FFFFFF;\n",
              "      --disabled-bg-color: #3B4455;\n",
              "      --disabled-fill-color: #666;\n",
              "  }\n",
              "\n",
              "  .colab-df-quickchart {\n",
              "    background-color: var(--bg-color);\n",
              "    border: none;\n",
              "    border-radius: 50%;\n",
              "    cursor: pointer;\n",
              "    display: none;\n",
              "    fill: var(--fill-color);\n",
              "    height: 32px;\n",
              "    padding: 0;\n",
              "    width: 32px;\n",
              "  }\n",
              "\n",
              "  .colab-df-quickchart:hover {\n",
              "    background-color: var(--hover-bg-color);\n",
              "    box-shadow: 0 1px 2px rgba(60, 64, 67, 0.3), 0 1px 3px 1px rgba(60, 64, 67, 0.15);\n",
              "    fill: var(--button-hover-fill-color);\n",
              "  }\n",
              "\n",
              "  .colab-df-quickchart-complete:disabled,\n",
              "  .colab-df-quickchart-complete:disabled:hover {\n",
              "    background-color: var(--disabled-bg-color);\n",
              "    fill: var(--disabled-fill-color);\n",
              "    box-shadow: none;\n",
              "  }\n",
              "\n",
              "  .colab-df-spinner {\n",
              "    border: 2px solid var(--fill-color);\n",
              "    border-color: transparent;\n",
              "    border-bottom-color: var(--fill-color);\n",
              "    animation:\n",
              "      spin 1s steps(1) infinite;\n",
              "  }\n",
              "\n",
              "  @keyframes spin {\n",
              "    0% {\n",
              "      border-color: transparent;\n",
              "      border-bottom-color: var(--fill-color);\n",
              "      border-left-color: var(--fill-color);\n",
              "    }\n",
              "    20% {\n",
              "      border-color: transparent;\n",
              "      border-left-color: var(--fill-color);\n",
              "      border-top-color: var(--fill-color);\n",
              "    }\n",
              "    30% {\n",
              "      border-color: transparent;\n",
              "      border-left-color: var(--fill-color);\n",
              "      border-top-color: var(--fill-color);\n",
              "      border-right-color: var(--fill-color);\n",
              "    }\n",
              "    40% {\n",
              "      border-color: transparent;\n",
              "      border-right-color: var(--fill-color);\n",
              "      border-top-color: var(--fill-color);\n",
              "    }\n",
              "    60% {\n",
              "      border-color: transparent;\n",
              "      border-right-color: var(--fill-color);\n",
              "    }\n",
              "    80% {\n",
              "      border-color: transparent;\n",
              "      border-right-color: var(--fill-color);\n",
              "      border-bottom-color: var(--fill-color);\n",
              "    }\n",
              "    90% {\n",
              "      border-color: transparent;\n",
              "      border-bottom-color: var(--fill-color);\n",
              "    }\n",
              "  }\n",
              "</style>\n",
              "\n",
              "  <script>\n",
              "    async function quickchart(key) {\n",
              "      const quickchartButtonEl =\n",
              "        document.querySelector('#' + key + ' button');\n",
              "      quickchartButtonEl.disabled = true;  // To prevent multiple clicks.\n",
              "      quickchartButtonEl.classList.add('colab-df-spinner');\n",
              "      try {\n",
              "        const charts = await google.colab.kernel.invokeFunction(\n",
              "            'suggestCharts', [key], {});\n",
              "      } catch (error) {\n",
              "        console.error('Error during call to suggestCharts:', error);\n",
              "      }\n",
              "      quickchartButtonEl.classList.remove('colab-df-spinner');\n",
              "      quickchartButtonEl.classList.add('colab-df-quickchart-complete');\n",
              "    }\n",
              "    (() => {\n",
              "      let quickchartButtonEl =\n",
              "        document.querySelector('#df-93031e37-7865-4762-a871-75765365da71 button');\n",
              "      quickchartButtonEl.style.display =\n",
              "        google.colab.kernel.accessAllowed ? 'block' : 'none';\n",
              "    })();\n",
              "  </script>\n",
              "</div>\n",
              "    </div>\n",
              "  </div>\n"
            ]
          },
          "metadata": {},
          "execution_count": 5
        }
      ]
    },
    {
      "cell_type": "markdown",
      "source": [
        "We will going to work on the single column for now"
      ],
      "metadata": {
        "id": "_p1Hi5NgoNgQ"
      }
    },
    {
      "cell_type": "code",
      "source": [
        "df_height = df_hw[\"Height\"]\n",
        "df_height.head()"
      ],
      "metadata": {
        "colab": {
          "base_uri": "https://localhost:8080/"
        },
        "id": "-eTw-dPWoNgQ",
        "outputId": "9dd362eb-2a52-4a03-ef40-bf62dd49f023"
      },
      "execution_count": null,
      "outputs": [
        {
          "output_type": "execute_result",
          "data": {
            "text/plain": [
              "0    73.847017\n",
              "1    68.781904\n",
              "2    74.110105\n",
              "3    71.730978\n",
              "4    69.881796\n",
              "Name: Height, dtype: float64"
            ]
          },
          "metadata": {},
          "execution_count": 6
        }
      ]
    },
    {
      "cell_type": "code",
      "source": [
        "\n",
        "\n",
        "sns.histplot(df_height)"
      ],
      "metadata": {
        "colab": {
          "base_uri": "https://localhost:8080/",
          "height": 466
        },
        "id": "vDSAtAEg2hN_",
        "outputId": "41c5123f-5599-48ca-a563-6d8ad4f78ca7"
      },
      "execution_count": null,
      "outputs": [
        {
          "output_type": "execute_result",
          "data": {
            "text/plain": [
              "<Axes: xlabel='Height', ylabel='Count'>"
            ]
          },
          "metadata": {},
          "execution_count": 7
        },
        {
          "output_type": "display_data",
          "data": {
            "text/plain": [
              "<Figure size 640x480 with 1 Axes>"
            ],
            "image/png": "[encoded data removed]"
          },
          "metadata": {}
        }
      ]
    },
    {
      "cell_type": "markdown",
      "source": [
        "<br>\n",
        "\n",
        "---"
      ],
      "metadata": {
        "id": "C7v8Yzgb8E1a"
      }
    },
    {
      "cell_type": "markdown",
      "source": [
        "<br>\n",
        "\n",
        "\n",
        "Let's explore another way to measure error  \n",
        "\n",
        "**Defining Error:**\n",
        "\n",
        "$Error = (Actual \\  Height - Guessed \\ Height)^2$\n",
        "\n",
        "<br>\n",
        "  \n",
        "\n",
        "> <font color='purple'>**Q1. Now, to minimize this error, what's the best approach?**</font>  \n",
        "\n",
        "In our Height Guessing Game, we've seen that aiming for the mean (μ) height is the key. Means, Guessed height should be the mean value.   \n",
        "\n",
        "- **$Error = (H_1 - μ)^2$**  (guessing for 1 time)  \n",
        "\n",
        "- It is also known as **Mean Squared Error**\n",
        "\n",
        "<br>\n",
        "\n",
        "<font color='purple'>Imagine we're playing the game 10 times, guessing the mean height each time:</font>  \n",
        "\n",
        "Error1 = $(H1 - μ)^2$  \n",
        "\n",
        "Error2 = $(H2 - μ)^2$  \n",
        "\n",
        "Error3 = $(H3 - μ)^2$  \n",
        "\n",
        "...  \n",
        "\n",
        "Error10 = $(H10 - μ)^2$  \n",
        "\n",
        "To find the overall error, we can sum up these individual errors and then divide by the number of guesses, which gives us the variance:  \n",
        "\n",
        "<font color='purple'>**Variance Calculation:**</font>  \n",
        "\n",
        "Variance = (Error1 + Error2 + Error3 + ... + Error10) / 10  \n",
        "\n",
        "- <font color='purple'>**$Variance = \\Large\\frac{(H_1 - μ)^2 + (H_2 - μ)^2 + (H_3 - μ)^2 + ..... + (H_{10} - μ)}{10}^2$**</font>  \n",
        "\n",
        "\n",
        "<br>  \n",
        "\n",
        "> <font color='purple'>**Q2. So, if the variance is low, what does that mean?**</font>   \n",
        "\n",
        "It implies that most of our guesses are incredibly accurate.  \n",
        "\n",
        "In general, variance quantifies how spread out, the data values are from the average (mean) value.   \n",
        "\n",
        "It assesses the average squared difference between data points and the mean.  \n",
        "\n",
        "<br>  \n",
        "\n",
        "The formula for calculating variance for n data points is:  \n",
        "\n",
        "### <font color='purple'>**Variance Calculation Formula:**</font>  \n",
        "\n",
        "**$variance$ = $\\sigma^2 = \\frac{\\displaystyle\\sum_{i=1}^{n}(H_i - \\mu)^2}{n}$**  \n",
        "\n",
        "- σ2 is the population variance.  \n",
        "\n",
        "- $H_i$ is the ith data point.  \n",
        "\n",
        "- µ is the population mean.  \n",
        "\n",
        "- n is the number of data points in the population."
      ],
      "metadata": {
        "id": "hHKGs73oBYp2"
      }
    },
    {
      "cell_type": "markdown",
      "source": [
        "Now that we have a clear understanding of variance and how it measures the spread or dispersion of data points,   \n",
        "\n",
        "Let's look into another essential concept closely related to variance. It's called \"**Standard Deviation**\""
      ],
      "metadata": {
        "id": "3rx5BSFiFsNY"
      }
    },
    {
      "cell_type": "markdown",
      "source": [
        "## <font color='purple'>**Standard Deviation**</font>\n",
        "\n",
        "Let's introduce an even more practical and commonly used statistic - the \"Standard Deviation.\"   \n",
        "\n",
        "While variance quantifies the dispersion of data, standard deviation is derived from variance and offers a more interpretable measure.  \n",
        "\n",
        "- The <font color='purple'>standard deviation represents how much individual data points deviate from the mean or average value</font>.   \n",
        "\n",
        "- It gives us a clear sense of the typical or expected amount of variation in our dataset.  \n",
        "\n",
        "  - In simple words, it represents that <font color='purple'>how far is our data point from the mean ( μ )</font>  \n",
        "\n",
        "<br>  \n",
        "\n",
        "<font color='purple'>**Standard Deviation Formula:**</font>\n",
        "\n",
        "The standard deviation, can be calculated by taking the square root of the variance:\n",
        "\n",
        "**$SD = \\sqrt{variance}$**    \n"
      ],
      "metadata": {
        "id": "Tw1tvcpAGPLm"
      }
    },
    {
      "cell_type": "markdown",
      "source": [
        "![Screenshot 2023-12-14 at 2.01.57 AM.png](data:image/png;base64,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)"
      ],
      "metadata": {
        "id": "P2BEfUQV4HM4"
      }
    },
    {
      "cell_type": "markdown",
      "source": [
        "<br>\n",
        "\n",
        "<font color='purple'>**Interpretation:**</font>\n",
        "\n",
        "- A <font color='purple'>lower standard deviation signifies that data points tend to be close to the mean</font>, indicating **less variability**.   \n",
        "\n",
        "- Conversely, a <font color='purple'>higher standard deviation indicates greater data dispersion</font>, suggesting **more variability** within the dataset.\n",
        "---\n",
        "<br>"
      ],
      "metadata": {
        "id": "0f3tA4dV43j2"
      }
    },
    {
      "cell_type": "markdown",
      "source": [
        "## <font color='blue'>**IQR implementation on a real-life dataset**</font>\n",
        "\n",
        "\n",
        "\n"
      ],
      "metadata": {
        "id": "PvVcHyTGSK2X"
      }
    },
    {
      "cell_type": "markdown",
      "source": [
        "\n",
        "### <font color='purple'>**Problem Statement**:</font>\n",
        "\n",
        "When we talk about these two players:  \n",
        "\n",
        "1. Sehwag\n",
        "2. Rahul Dravid  \n",
        "\n",
        "We all know that Sehwag has **aggressive batting style**  \n",
        "\n",
        "While Rahul Dravid **plays patiently**, with no risk and stands on the crease like a \"Wall\"   \n",
        "\n",
        "- Let's analyse both of their matches and try to find some insights about their range of scores.\n",
        "\n",
        "- We will use IQR here to calculate the range of their scores accurately and will also try to find if they have any \"Outlier\" scores in their careers.  \n",
        "\n",
        "<font color='purple'>We will conclude that out of these two batsman, who is the more consistent batsman?.</font>\n",
        "\n"
      ],
      "metadata": {
        "id": "p1zJ_w-2AZue"
      }
    },
    {
      "cell_type": "markdown",
      "source": [
        "Let's start with Sehwag's matches"
      ],
      "metadata": {
        "id": "BBUC0LjfDRxY"
      }
    },
    {
      "cell_type": "code",
      "source": [
        "import numpy as np\n",
        "import pandas as pd\n",
        "import seaborn as sns\n",
        "import matplotlib.pyplot as plt"
      ],
      "metadata": {
        "id": "JfvYGhLTOks9"
      },
      "execution_count": null,
      "outputs": []
    },
    {
      "cell_type": "code",
      "source": [
        "!wget --no-check-certificate https://drive.google.com/uc?id=1JYyGv7QSb_GkVGan5rnHNrtOg2ewJB_f -O sehwag.csv"
      ],
      "metadata": {
        "colab": {
          "base_uri": "https://localhost:8080/"
        },
        "id": "I3zgEFnDOMRU",
        "outputId": "7aa74958-43b5-43a1-e5ed-f58671258015"
      },
      "execution_count": null,
      "outputs": [
        {
          "output_type": "stream",
          "name": "stdout",
          "text": [
            "--2024-01-18 09:39:17--  https://drive.google.com/uc?id=1JYyGv7QSb_GkVGan5rnHNrtOg2ewJB_f\n",
            "Resolving drive.google.com (drive.google.com)... 172.253.123.100, 172.253.123.101, 172.253.123.138, ...\n",
            "Connecting to drive.google.com (drive.google.com)|172.253.123.100|:443... connected.\n",
            "HTTP request sent, awaiting response... 303 See Other\n",
            "Location: https://drive.usercontent.google.com/download?id=1JYyGv7QSb_GkVGan5rnHNrtOg2ewJB_f [following]\n",
            "--2024-01-18 09:39:17--  https://drive.usercontent.google.com/download?id=1JYyGv7QSb_GkVGan5rnHNrtOg2ewJB_f\n",
            "Resolving drive.usercontent.google.com (drive.usercontent.google.com)... 74.125.196.132, 2607:f8b0:400c:c36::84\n",
            "Connecting to drive.usercontent.google.com (drive.usercontent.google.com)|74.125.196.132|:443... connected.\n",
            "HTTP request sent, awaiting response... 200 OK\n",
            "Length: 18584 (18K) [application/octet-stream]\n",
            "Saving to: ‘sehwag.csv’\n",
            "\n",
            "sehwag.csv          100%[===================>]  18.15K  --.-KB/s    in 0s      \n",
            "\n",
            "2024-01-18 09:39:18 (73.8 MB/s) - ‘sehwag.csv’ saved [18584/18584]\n",
            "\n"
          ]
        }
      ]
    },
    {
      "cell_type": "code",
      "source": [
        "sehwag = pd.read_csv(\"sehwag.csv\")\n",
        "sehwag.head()"
      ],
      "metadata": {
        "colab": {
          "base_uri": "https://localhost:8080/",
          "height": 206
        },
        "id": "iYlmgajwOMFP",
        "outputId": "2e5947ff-4621-4d42-983f-e5152b4ad394"
      },
      "execution_count": null,
      "outputs": [
        {
          "output_type": "execute_result",
          "data": {
            "text/plain": [
              "   Runs Mins  BF  4s  6s      SR  Pos Dismissal  Inns  Unnamed: 9  \\\n",
              "0     1    5   2   0   0   50.00    7       lbw     1         NaN   \n",
              "1    19   18  24   0   1   79.16    6    caught     1         NaN   \n",
              "2    58   62  54   8   0  107.40    6    bowled     1         NaN   \n",
              "3     2    7   7   0   0   28.57    6    caught     2         NaN   \n",
              "4    11   19  16   1   0   68.75    6   not out     2         NaN   \n",
              "\n",
              "      Opposition     Ground   Start Date Unnamed: 13  \n",
              "0     v Pakistan     Mohali   1 Apr 1999  ODI # 1427  \n",
              "1     v Zimbabwe     Rajkot  14 Dec 2000  ODI # 1660  \n",
              "2    v Australia  Bengaluru  25 Mar 2001  ODI # 1696  \n",
              "3     v Zimbabwe   Bulawayo  27 Jun 2001  ODI # 1730  \n",
              "4  v West Indies   Bulawayo  30 Jun 2001  ODI # 1731  "
            ],
            "text/html": [
              "\n",
              "  <div id=\"df-2c0bf2a4-2480-4600-9889-9bf515a73ab0\" class=\"colab-df-container\">\n",
              "    <div>\n",
              "<style scoped>\n",
              "    .dataframe tbody tr th:only-of-type {\n",
              "        vertical-align: middle;\n",
              "    }\n",
              "\n",
              "    .dataframe tbody tr th {\n",
              "        vertical-align: top;\n",
              "    }\n",
              "\n",
              "    .dataframe thead th {\n",
              "        text-align: right;\n",
              "    }\n",
              "</style>\n",
              "<table border=\"1\" class=\"dataframe\">\n",
              "  <thead>\n",
              "    <tr style=\"text-align: right;\">\n",
              "      <th></th>\n",
              "      <th>Runs</th>\n",
              "      <th>Mins</th>\n",
              "      <th>BF</th>\n",
              "      <th>4s</th>\n",
              "      <th>6s</th>\n",
              "      <th>SR</th>\n",
              "      <th>Pos</th>\n",
              "      <th>Dismissal</th>\n",
              "      <th>Inns</th>\n",
              "      <th>Unnamed: 9</th>\n",
              "      <th>Opposition</th>\n",
              "      <th>Ground</th>\n",
              "      <th>Start Date</th>\n",
              "      <th>Unnamed: 13</th>\n",
              "    </tr>\n",
              "  </thead>\n",
              "  <tbody>\n",
              "    <tr>\n",
              "      <th>0</th>\n",
              "      <td>1</td>\n",
              "      <td>5</td>\n",
              "      <td>2</td>\n",
              "      <td>0</td>\n",
              "      <td>0</td>\n",
              "      <td>50.00</td>\n",
              "      <td>7</td>\n",
              "      <td>lbw</td>\n",
              "      <td>1</td>\n",
              "      <td>NaN</td>\n",
              "      <td>v Pakistan</td>\n",
              "      <td>Mohali</td>\n",
              "      <td>1 Apr 1999</td>\n",
              "      <td>ODI # 1427</td>\n",
              "    </tr>\n",
              "    <tr>\n",
              "      <th>1</th>\n",
              "      <td>19</td>\n",
              "      <td>18</td>\n",
              "      <td>24</td>\n",
              "      <td>0</td>\n",
              "      <td>1</td>\n",
              "      <td>79.16</td>\n",
              "      <td>6</td>\n",
              "      <td>caught</td>\n",
              "      <td>1</td>\n",
              "      <td>NaN</td>\n",
              "      <td>v Zimbabwe</td>\n",
              "      <td>Rajkot</td>\n",
              "      <td>14 Dec 2000</td>\n",
              "      <td>ODI # 1660</td>\n",
              "    </tr>\n",
              "    <tr>\n",
              "      <th>2</th>\n",
              "      <td>58</td>\n",
              "      <td>62</td>\n",
              "      <td>54</td>\n",
              "      <td>8</td>\n",
              "      <td>0</td>\n",
              "      <td>107.40</td>\n",
              "      <td>6</td>\n",
              "      <td>bowled</td>\n",
              "      <td>1</td>\n",
              "      <td>NaN</td>\n",
              "      <td>v Australia</td>\n",
              "      <td>Bengaluru</td>\n",
              "      <td>25 Mar 2001</td>\n",
              "      <td>ODI # 1696</td>\n",
              "    </tr>\n",
              "    <tr>\n",
              "      <th>3</th>\n",
              "      <td>2</td>\n",
              "      <td>7</td>\n",
              "      <td>7</td>\n",
              "      <td>0</td>\n",
              "      <td>0</td>\n",
              "      <td>28.57</td>\n",
              "      <td>6</td>\n",
              "      <td>caught</td>\n",
              "      <td>2</td>\n",
              "      <td>NaN</td>\n",
              "      <td>v Zimbabwe</td>\n",
              "      <td>Bulawayo</td>\n",
              "      <td>27 Jun 2001</td>\n",
              "      <td>ODI # 1730</td>\n",
              "    </tr>\n",
              "    <tr>\n",
              "      <th>4</th>\n",
              "      <td>11</td>\n",
              "      <td>19</td>\n",
              "      <td>16</td>\n",
              "      <td>1</td>\n",
              "      <td>0</td>\n",
              "      <td>68.75</td>\n",
              "      <td>6</td>\n",
              "      <td>not out</td>\n",
              "      <td>2</td>\n",
              "      <td>NaN</td>\n",
              "      <td>v West Indies</td>\n",
              "      <td>Bulawayo</td>\n",
              "      <td>30 Jun 2001</td>\n",
              "      <td>ODI # 1731</td>\n",
              "    </tr>\n",
              "  </tbody>\n",
              "</table>\n",
              "</div>\n",
              "    <div class=\"colab-df-buttons\">\n",
              "\n",
              "  <div class=\"colab-df-container\">\n",
              "    <button class=\"colab-df-convert\" onclick=\"convertToInteractive('df-2c0bf2a4-2480-4600-9889-9bf515a73ab0')\"\n",
              "            title=\"Convert this dataframe to an interactive table.\"\n",
              "            style=\"display:none;\">\n",
              "\n",
              "  <svg xmlns=\"http://www.w3.org/2000/svg\" height=\"24px\" viewBox=\"0 -960 960 960\">\n",
              "    <path d=\"M120-120v-720h720v720H120Zm60-500h600v-160H180v160Zm220 220h160v-160H400v160Zm0 220h160v-160H400v160ZM180-400h160v-160H180v160Zm440 0h160v-160H620v160ZM180-180h160v-160H180v160Zm440 0h160v-160H620v160Z\"/>\n",
              "  </svg>\n",
              "    </button>\n",
              "\n",
              "  <style>\n",
              "    .colab-df-container {\n",
              "      display:flex;\n",
              "      gap: 12px;\n",
              "    }\n",
              "\n",
              "    .colab-df-convert {\n",
              "      background-color: #E8F0FE;\n",
              "      border: none;\n",
              "      border-radius: 50%;\n",
              "      cursor: pointer;\n",
              "      display: none;\n",
              "      fill: #1967D2;\n",
              "      height: 32px;\n",
              "      padding: 0 0 0 0;\n",
              "      width: 32px;\n",
              "    }\n",
              "\n",
              "    .colab-df-convert:hover {\n",
              "      background-color: #E2EBFA;\n",
              "      box-shadow: 0px 1px 2px rgba(60, 64, 67, 0.3), 0px 1px 3px 1px rgba(60, 64, 67, 0.15);\n",
              "      fill: #174EA6;\n",
              "    }\n",
              "\n",
              "    .colab-df-buttons div {\n",
              "      margin-bottom: 4px;\n",
              "    }\n",
              "\n",
              "    [theme=dark] .colab-df-convert {\n",
              "      background-color: #3B4455;\n",
              "      fill: #D2E3FC;\n",
              "    }\n",
              "\n",
              "    [theme=dark] .colab-df-convert:hover {\n",
              "      background-color: #434B5C;\n",
              "      box-shadow: 0px 1px 3px 1px rgba(0, 0, 0, 0.15);\n",
              "      filter: drop-shadow(0px 1px 2px rgba(0, 0, 0, 0.3));\n",
              "      fill: #FFFFFF;\n",
              "    }\n",
              "  </style>\n",
              "\n",
              "    <script>\n",
              "      const buttonEl =\n",
              "        document.querySelector('#df-2c0bf2a4-2480-4600-9889-9bf515a73ab0 button.colab-df-convert');\n",
              "      buttonEl.style.display =\n",
              "        google.colab.kernel.accessAllowed ? 'block' : 'none';\n",
              "\n",
              "      async function convertToInteractive(key) {\n",
              "        const element = document.querySelector('#df-2c0bf2a4-2480-4600-9889-9bf515a73ab0');\n",
              "        const dataTable =\n",
              "          await google.colab.kernel.invokeFunction('convertToInteractive',\n",
              "                                                    [key], {});\n",
              "        if (!dataTable) return;\n",
              "\n",
              "        const docLinkHtml = 'Like what you see? Visit the ' +\n",
              "          '<a target=\"_blank\" href=https://colab.research.google.com/notebooks/data_table.ipynb>data table notebook</a>'\n",
              "          + ' to learn more about interactive tables.';\n",
              "        element.innerHTML = '';\n",
              "        dataTable['output_type'] = 'display_data';\n",
              "        await google.colab.output.renderOutput(dataTable, element);\n",
              "        const docLink = document.createElement('div');\n",
              "        docLink.innerHTML = docLinkHtml;\n",
              "        element.appendChild(docLink);\n",
              "      }\n",
              "    </script>\n",
              "  </div>\n",
              "\n",
              "\n",
              "<div id=\"df-2a3765cf-2a04-4c7a-9136-707a5535c7c5\">\n",
              "  <button class=\"colab-df-quickchart\" onclick=\"quickchart('df-2a3765cf-2a04-4c7a-9136-707a5535c7c5')\"\n",
              "            title=\"Suggest charts\"\n",
              "            style=\"display:none;\">\n",
              "\n",
              "<svg xmlns=\"http://www.w3.org/2000/svg\" height=\"24px\"viewBox=\"0 0 24 24\"\n",
              "     width=\"24px\">\n",
              "    <g>\n",
              "        <path d=\"M19 3H5c-1.1 0-2 .9-2 2v14c0 1.1.9 2 2 2h14c1.1 0 2-.9 2-2V5c0-1.1-.9-2-2-2zM9 17H7v-7h2v7zm4 0h-2V7h2v10zm4 0h-2v-4h2v4z\"/>\n",
              "    </g>\n",
              "</svg>\n",
              "  </button>\n",
              "\n",
              "<style>\n",
              "  .colab-df-quickchart {\n",
              "      --bg-color: #E8F0FE;\n",
              "      --fill-color: #1967D2;\n",
              "      --hover-bg-color: #E2EBFA;\n",
              "      --hover-fill-color: #174EA6;\n",
              "      --disabled-fill-color: #AAA;\n",
              "      --disabled-bg-color: #DDD;\n",
              "  }\n",
              "\n",
              "  [theme=dark] .colab-df-quickchart {\n",
              "      --bg-color: #3B4455;\n",
              "      --fill-color: #D2E3FC;\n",
              "      --hover-bg-color: #434B5C;\n",
              "      --hover-fill-color: #FFFFFF;\n",
              "      --disabled-bg-color: #3B4455;\n",
              "      --disabled-fill-color: #666;\n",
              "  }\n",
              "\n",
              "  .colab-df-quickchart {\n",
              "    background-color: var(--bg-color);\n",
              "    border: none;\n",
              "    border-radius: 50%;\n",
              "    cursor: pointer;\n",
              "    display: none;\n",
              "    fill: var(--fill-color);\n",
              "    height: 32px;\n",
              "    padding: 0;\n",
              "    width: 32px;\n",
              "  }\n",
              "\n",
              "  .colab-df-quickchart:hover {\n",
              "    background-color: var(--hover-bg-color);\n",
              "    box-shadow: 0 1px 2px rgba(60, 64, 67, 0.3), 0 1px 3px 1px rgba(60, 64, 67, 0.15);\n",
              "    fill: var(--button-hover-fill-color);\n",
              "  }\n",
              "\n",
              "  .colab-df-quickchart-complete:disabled,\n",
              "  .colab-df-quickchart-complete:disabled:hover {\n",
              "    background-color: var(--disabled-bg-color);\n",
              "    fill: var(--disabled-fill-color);\n",
              "    box-shadow: none;\n",
              "  }\n",
              "\n",
              "  .colab-df-spinner {\n",
              "    border: 2px solid var(--fill-color);\n",
              "    border-color: transparent;\n",
              "    border-bottom-color: var(--fill-color);\n",
              "    animation:\n",
              "      spin 1s steps(1) infinite;\n",
              "  }\n",
              "\n",
              "  @keyframes spin {\n",
              "    0% {\n",
              "      border-color: transparent;\n",
              "      border-bottom-color: var(--fill-color);\n",
              "      border-left-color: var(--fill-color);\n",
              "    }\n",
              "    20% {\n",
              "      border-color: transparent;\n",
              "      border-left-color: var(--fill-color);\n",
              "      border-top-color: var(--fill-color);\n",
              "    }\n",
              "    30% {\n",
              "      border-color: transparent;\n",
              "      border-left-color: var(--fill-color);\n",
              "      border-top-color: var(--fill-color);\n",
              "      border-right-color: var(--fill-color);\n",
              "    }\n",
              "    40% {\n",
              "      border-color: transparent;\n",
              "      border-right-color: var(--fill-color);\n",
              "      border-top-color: var(--fill-color);\n",
              "    }\n",
              "    60% {\n",
              "      border-color: transparent;\n",
              "      border-right-color: var(--fill-color);\n",
              "    }\n",
              "    80% {\n",
              "      border-color: transparent;\n",
              "      border-right-color: var(--fill-color);\n",
              "      border-bottom-color: var(--fill-color);\n",
              "    }\n",
              "    90% {\n",
              "      border-color: transparent;\n",
              "      border-bottom-color: var(--fill-color);\n",
              "    }\n",
              "  }\n",
              "</style>\n",
              "\n",
              "  <script>\n",
              "    async function quickchart(key) {\n",
              "      const quickchartButtonEl =\n",
              "        document.querySelector('#' + key + ' button');\n",
              "      quickchartButtonEl.disabled = true;  // To prevent multiple clicks.\n",
              "      quickchartButtonEl.classList.add('colab-df-spinner');\n",
              "      try {\n",
              "        const charts = await google.colab.kernel.invokeFunction(\n",
              "            'suggestCharts', [key], {});\n",
              "      } catch (error) {\n",
              "        console.error('Error during call to suggestCharts:', error);\n",
              "      }\n",
              "      quickchartButtonEl.classList.remove('colab-df-spinner');\n",
              "      quickchartButtonEl.classList.add('colab-df-quickchart-complete');\n",
              "    }\n",
              "    (() => {\n",
              "      let quickchartButtonEl =\n",
              "        document.querySelector('#df-2a3765cf-2a04-4c7a-9136-707a5535c7c5 button');\n",
              "      quickchartButtonEl.style.display =\n",
              "        google.colab.kernel.accessAllowed ? 'block' : 'none';\n",
              "    })();\n",
              "  </script>\n",
              "</div>\n",
              "    </div>\n",
              "  </div>\n"
            ]
          },
          "metadata": {},
          "execution_count": 10
        }
      ]
    },
    {
      "cell_type": "code",
      "source": [
        "sehwag[\"Runs\"].describe()"
      ],
      "metadata": {
        "colab": {
          "base_uri": "https://localhost:8080/"
        },
        "id": "xQtJlK1KOL5o",
        "outputId": "977976b6-3bcc-4545-a102-d9bd444f10ce"
      },
      "execution_count": null,
      "outputs": [
        {
          "output_type": "execute_result",
          "data": {
            "text/plain": [
              "count    245.000000\n",
              "mean      33.767347\n",
              "std       34.809419\n",
              "min        0.000000\n",
              "25%        8.000000\n",
              "50%       23.000000\n",
              "75%       46.000000\n",
              "max      219.000000\n",
              "Name: Runs, dtype: float64"
            ]
          },
          "metadata": {},
          "execution_count": 11
        }
      ]
    },
    {
      "cell_type": "markdown",
      "source": [
        "We want to find the range of his scores  \n",
        "\n",
        "> <font color='purple'>Let's find Quartiles first on the \"Runs\" column.</font>  \n",
        "\n",
        "So Q1, Q2 and Q3 will be"
      ],
      "metadata": {
        "id": "5pubqYzEDa4y"
      }
    },
    {
      "cell_type": "code",
      "source": [
        "# 25th percentile or Q1\n",
        "p_25 = np.percentile(sehwag[\"Runs\"], 25)\n",
        "p_25"
      ],
      "metadata": {
        "colab": {
          "base_uri": "https://localhost:8080/"
        },
        "id": "WM-bcM6COLtj",
        "outputId": "90658fed-892c-451b-8431-a7b586680955"
      },
      "execution_count": null,
      "outputs": [
        {
          "output_type": "execute_result",
          "data": {
            "text/plain": [
              "8.0"
            ]
          },
          "metadata": {},
          "execution_count": 12
        }
      ]
    },
    {
      "cell_type": "markdown",
      "source": [
        "This value indicates that 25% of all the values present in the dataset for Sehwag's run is less than 8  \n",
        "\n",
        "We can also say,  \n",
        "\n",
        "<font color='purple'>Out of all the matches that Shewag played, in 25% of those matches, he scored less than 8 runs.</font>"
      ],
      "metadata": {
        "id": "TYmRB67ZDvmm"
      }
    },
    {
      "cell_type": "code",
      "source": [
        "#50th percentile or Q2, also \"Median\"\n",
        "p_50 = np.percentile(sehwag[\"Runs\"], 50)\n",
        "p_50"
      ],
      "metadata": {
        "colab": {
          "base_uri": "https://localhost:8080/"
        },
        "id": "KjJz1aw0OLh3",
        "outputId": "01fe6ce0-9a2e-40dc-a75a-4ccd873dc85b"
      },
      "execution_count": null,
      "outputs": [
        {
          "output_type": "execute_result",
          "data": {
            "text/plain": [
              "23.0"
            ]
          },
          "metadata": {},
          "execution_count": 13
        }
      ]
    },
    {
      "cell_type": "markdown",
      "source": [
        "This indicates that in <font color='purple'>50% of the matches, he scored less than 23 runs</font>"
      ],
      "metadata": {
        "id": "T35ijxhPEeB4"
      }
    },
    {
      "cell_type": "code",
      "source": [
        "#75th percentile or Q3\n",
        "p_75 = np.percentile(sehwag[\"Runs\"], 75)\n",
        "p_75"
      ],
      "metadata": {
        "colab": {
          "base_uri": "https://localhost:8080/"
        },
        "id": "WjP5qp-nOLWU",
        "outputId": "3118cce7-797e-435f-a233-6ccd90511543"
      },
      "execution_count": null,
      "outputs": [
        {
          "output_type": "execute_result",
          "data": {
            "text/plain": [
              "46.0"
            ]
          },
          "metadata": {},
          "execution_count": 14
        }
      ]
    },
    {
      "cell_type": "markdown",
      "source": [
        "This indicates that in <font color='purple'>75% of the matches, he scored less than 46 runs</font>  \n",
        "\n",
        "> <font color='purple'>So, IQR will be?</font>  \n",
        "\n",
        "We know IQR = Q3 - Q1"
      ],
      "metadata": {
        "id": "0TmjYj1YEoUU"
      }
    },
    {
      "cell_type": "code",
      "source": [
        "# Inter Quartile Range\n",
        "iqr_sehwag = p_75 - p_25\n",
        "iqr_sehwag"
      ],
      "metadata": {
        "colab": {
          "base_uri": "https://localhost:8080/"
        },
        "id": "4X_g1N6bOLKc",
        "outputId": "0b3306d7-256f-4775-99fe-617dca8fe0a3"
      },
      "execution_count": null,
      "outputs": [
        {
          "output_type": "execute_result",
          "data": {
            "text/plain": [
              "38.0"
            ]
          },
          "metadata": {},
          "execution_count": 15
        }
      ]
    },
    {
      "cell_type": "code",
      "source": [
        "normal_range = (sehwag[\"Runs\"].max() - sehwag[\"Runs\"].min())\n",
        "\n",
        "normal_range"
      ],
      "metadata": {
        "colab": {
          "base_uri": "https://localhost:8080/"
        },
        "id": "62QVCElME9_P",
        "outputId": "2be733c6-b78b-4eef-b4e4-582b1ba25029"
      },
      "execution_count": null,
      "outputs": [
        {
          "output_type": "execute_result",
          "data": {
            "text/plain": [
              "219"
            ]
          },
          "metadata": {},
          "execution_count": 16
        }
      ]
    },
    {
      "cell_type": "markdown",
      "source": [
        "We can observe the difference here,\n",
        "\n",
        "**IQR is 38** which means that middle 50% of the data lies in the range of 38.  \n",
        "\n",
        "So more than 50% of the time, Sehwag scores in the range of 38 runs    \n",
        "\n",
        "<br>  \n",
        "\n",
        "- On the other hand, the **normal range is very high i.e. 219** which is certainly not a good range to consider.  \n",
        "\n",
        "- We can observe one thing that **there in an Outlier present in the data** means in some matches he has scored so many runs like more than 300 in a single match  \n",
        "\n",
        "This is why the range is getting affected by the outlier  \n",
        "\n",
        "Let's plot the box plot to visualise the spread of the data"
      ],
      "metadata": {
        "id": "SSwVOHxFFJtm"
      }
    },
    {
      "cell_type": "code",
      "source": [
        "sns.boxplot(data=sehwag[\"Runs\"], orient=\"h\")"
      ],
      "metadata": {
        "colab": {
          "base_uri": "https://localhost:8080/",
          "height": 466
        },
        "id": "Tina7UKLO9Pd",
        "outputId": "62137ba4-e23d-443c-fe57-e292109e4419"
      },
      "execution_count": null,
      "outputs": [
        {
          "output_type": "execute_result",
          "data": {
            "text/plain": [
              "<Axes: xlabel='Runs'>"
            ]
          },
          "metadata": {},
          "execution_count": 17
        },
        {
          "output_type": "display_data",
          "data": {
            "text/plain": [
              "<Figure size 640x480 with 1 Axes>"
            ],
            "image/png": "[encoded data removed]"
          },
          "metadata": {}
        }
      ]
    },
    {
      "cell_type": "markdown",
      "source": [
        "<br>\n",
        "<br>\n",
        "\n",
        "\n",
        "We can see that Q1, Q2, and Q3 values lie within the box and we can also see whiskers on both the sides of box which is the limit.  \n",
        "\n",
        "\n",
        "We already saw how to calculate the lower whisker and upper whisker\n",
        "\n",
        "\n",
        "All the values outside the limit are considered \"Outlier\"\n",
        "\n"
      ],
      "metadata": {
        "id": "h7fxHW3qPIn4"
      }
    },
    {
      "cell_type": "code",
      "source": [
        "# upper limit = Q3 + 1.5 * IQR\n",
        "\n",
        "upper = 46 + 1.5*(iqr_sehwag)\n",
        "upper"
      ],
      "metadata": {
        "colab": {
          "base_uri": "https://localhost:8080/"
        },
        "id": "aeU_x69pOK-x",
        "outputId": "d67e4bbc-3b05-4430-b6e7-e6994e5a2a97"
      },
      "execution_count": null,
      "outputs": [
        {
          "output_type": "execute_result",
          "data": {
            "text/plain": [
              "103.0"
            ]
          },
          "metadata": {},
          "execution_count": 18
        }
      ]
    },
    {
      "cell_type": "markdown",
      "source": [
        "Here, we cannot have values on the left side of the lower whisker as the batsman cannot score less than 0 runs.  \n",
        "\n",
        "\n",
        "So all the outliers will be present on the right side of the upper whisker"
      ],
      "metadata": {
        "id": "AqK6kplnHCn1"
      }
    },
    {
      "cell_type": "code",
      "source": [
        "# all the values greater than upper is outlier\n",
        "outliers_sehwag = sehwag[sehwag[\"Runs\"]>upper]\n",
        "len(outliers_sehwag)"
      ],
      "metadata": {
        "colab": {
          "base_uri": "https://localhost:8080/"
        },
        "id": "HzJfPcFyOKzO",
        "outputId": "141ebfc4-4f51-458b-80b0-9795da77a6ba"
      },
      "execution_count": null,
      "outputs": [
        {
          "output_type": "execute_result",
          "data": {
            "text/plain": [
              "14"
            ]
          },
          "metadata": {},
          "execution_count": 19
        }
      ]
    },
    {
      "cell_type": "code",
      "source": [
        "14/245"
      ],
      "metadata": {
        "colab": {
          "base_uri": "https://localhost:8080/"
        },
        "id": "95at8MLGOKnl",
        "outputId": "8368867a-5eb0-48f9-8b9c-47b5312123a2"
      },
      "execution_count": null,
      "outputs": [
        {
          "output_type": "execute_result",
          "data": {
            "text/plain": [
              "0.05714285714285714"
            ]
          },
          "metadata": {},
          "execution_count": 20
        }
      ]
    },
    {
      "cell_type": "markdown",
      "source": [
        "<font color='orange'>**Conclusion**:</font>\n",
        "\n",
        "Here we can observe that **5.7% values from the dataset are outliers**.  \n",
        "\n",
        "This means we can conclude that <font color='purple'>5.7 or ~6% times Sehwag has scored more than the IQR which is 38 runs</font>\n"
      ],
      "metadata": {
        "id": "a_5dZ_q-O-V7"
      }
    },
    {
      "cell_type": "markdown",
      "source": [
        "\n",
        "Now let's have a same process into Dravid's stats"
      ],
      "metadata": {
        "id": "cb-C_rW0ISL2"
      }
    },
    {
      "cell_type": "markdown",
      "source": [
        "<font color='blue'>**Cricket - Dravid**</font>"
      ],
      "metadata": {
        "id": "wWJN1NucP37P"
      }
    },
    {
      "cell_type": "code",
      "source": [
        "!wget --no-check-certificate https://drive.google.com/uc?id=1nrKmOYQNiTqFhMIoAwE00ULKhGhMEVMZ -O dravid.csv"
      ],
      "metadata": {
        "colab": {
          "base_uri": "https://localhost:8080/"
        },
        "id": "ZpwW86VVPn4L",
        "outputId": "b2dcceb5-4592-4f98-a7bd-35c5c151c46a"
      },
      "execution_count": null,
      "outputs": [
        {
          "output_type": "stream",
          "name": "stdout",
          "text": [
            "--2024-01-18 09:39:18--  https://drive.google.com/uc?id=1nrKmOYQNiTqFhMIoAwE00ULKhGhMEVMZ\n",
            "Resolving drive.google.com (drive.google.com)... 172.253.123.100, 172.253.123.101, 172.253.123.138, ...\n",
            "Connecting to drive.google.com (drive.google.com)|172.253.123.100|:443... connected.\n",
            "HTTP request sent, awaiting response... 303 See Other\n",
            "Location: https://drive.usercontent.google.com/download?id=1nrKmOYQNiTqFhMIoAwE00ULKhGhMEVMZ [following]\n",
            "--2024-01-18 09:39:18--  https://drive.usercontent.google.com/download?id=1nrKmOYQNiTqFhMIoAwE00ULKhGhMEVMZ\n",
            "Resolving drive.usercontent.google.com (drive.usercontent.google.com)... 74.125.196.132, 2607:f8b0:400c:c36::84\n",
            "Connecting to drive.usercontent.google.com (drive.usercontent.google.com)|74.125.196.132|:443... connected.\n",
            "HTTP request sent, awaiting response... 200 OK\n",
            "Length: 24177 (24K) [application/octet-stream]\n",
            "Saving to: ‘dravid.csv’\n",
            "\n",
            "dravid.csv          100%[===================>]  23.61K  --.-KB/s    in 0s      \n",
            "\n",
            "2024-01-18 09:39:19 (106 MB/s) - ‘dravid.csv’ saved [24177/24177]\n",
            "\n"
          ]
        }
      ]
    },
    {
      "cell_type": "code",
      "source": [
        "dravid = pd.read_csv(\"dravid.csv\")"
      ],
      "metadata": {
        "id": "_4AkIdYDPnsL"
      },
      "execution_count": null,
      "outputs": []
    },
    {
      "cell_type": "code",
      "source": [
        "dravid[\"Runs\"].describe()"
      ],
      "metadata": {
        "colab": {
          "base_uri": "https://localhost:8080/"
        },
        "id": "3Fr819o5PniR",
        "outputId": "08dbc8b4-e35a-4c48-a27a-d2616fa2d328"
      },
      "execution_count": null,
      "outputs": [
        {
          "output_type": "execute_result",
          "data": {
            "text/plain": [
              "count    318.000000\n",
              "mean      34.242138\n",
              "std       29.681822\n",
              "min        0.000000\n",
              "25%       10.000000\n",
              "50%       26.000000\n",
              "75%       54.000000\n",
              "max      153.000000\n",
              "Name: Runs, dtype: float64"
            ]
          },
          "metadata": {},
          "execution_count": 23
        }
      ]
    },
    {
      "cell_type": "code",
      "source": [
        "#25th percentile or Q1\n",
        "per_25 = np.percentile(dravid[\"Runs\"], 25)\n",
        "per_25"
      ],
      "metadata": {
        "colab": {
          "base_uri": "https://localhost:8080/"
        },
        "id": "E7CnNDUxPnXn",
        "outputId": "a64f5719-31f8-4443-d454-d3d904417fad"
      },
      "execution_count": null,
      "outputs": [
        {
          "output_type": "execute_result",
          "data": {
            "text/plain": [
              "10.0"
            ]
          },
          "metadata": {},
          "execution_count": 24
        }
      ]
    },
    {
      "cell_type": "markdown",
      "source": [
        "This indicates that in <font color='purple'>25% of the matches, he scored less than 10 runs</font>"
      ],
      "metadata": {
        "id": "5zReV6aCIZjV"
      }
    },
    {
      "cell_type": "code",
      "source": [
        "#50th percentile or Q2 , also \"Median\"\n",
        "per_50 = np.percentile(dravid[\"Runs\"], 50)\n",
        "per_50"
      ],
      "metadata": {
        "colab": {
          "base_uri": "https://localhost:8080/"
        },
        "id": "JvVCJocAPnNt",
        "outputId": "accf2580-7889-4672-9a3f-296713d418fe"
      },
      "execution_count": null,
      "outputs": [
        {
          "output_type": "execute_result",
          "data": {
            "text/plain": [
              "26.0"
            ]
          },
          "metadata": {},
          "execution_count": 25
        }
      ]
    },
    {
      "cell_type": "markdown",
      "source": [
        "This indicates that in <font color='purple'>50% of the matches, he scored less than 26 runs</font>"
      ],
      "metadata": {
        "id": "oNNM8fw-Idy0"
      }
    },
    {
      "cell_type": "code",
      "source": [
        "#75th percentile or Q3\n",
        "per_75 = np.percentile(dravid[\"Runs\"], 75)\n",
        "per_75"
      ],
      "metadata": {
        "colab": {
          "base_uri": "https://localhost:8080/"
        },
        "id": "2-xIVG9_PnCy",
        "outputId": "e3630b75-e765-4b8f-d603-dfb6d04e9828"
      },
      "execution_count": null,
      "outputs": [
        {
          "output_type": "execute_result",
          "data": {
            "text/plain": [
              "54.0"
            ]
          },
          "metadata": {},
          "execution_count": 26
        }
      ]
    },
    {
      "cell_type": "markdown",
      "source": [
        "This indicates that in <font color='purple'>75% of the matches, he scored less than 54 runs</font>"
      ],
      "metadata": {
        "id": "ddr6jh-qIfc5"
      }
    },
    {
      "cell_type": "code",
      "source": [
        "# Inter Quartile Range\n",
        "iqr_dravid = per_75 - per_25\n",
        "iqr_dravid"
      ],
      "metadata": {
        "colab": {
          "base_uri": "https://localhost:8080/"
        },
        "id": "_6sGG2eCPm33",
        "outputId": "76f1a459-4c29-4314-e3ec-5348235b63b0"
      },
      "execution_count": null,
      "outputs": [
        {
          "output_type": "execute_result",
          "data": {
            "text/plain": [
              "44.0"
            ]
          },
          "metadata": {},
          "execution_count": 27
        }
      ]
    },
    {
      "cell_type": "code",
      "source": [
        "normal_range = (dravid[\"Runs\"].max() - dravid[\"Runs\"].min())\n",
        "\n",
        "normal_range"
      ],
      "metadata": {
        "colab": {
          "base_uri": "https://localhost:8080/"
        },
        "id": "0Wi1HH8jInS2",
        "outputId": "8d78c20b-0d74-436b-fda2-be9b1f7f2519"
      },
      "execution_count": null,
      "outputs": [
        {
          "output_type": "execute_result",
          "data": {
            "text/plain": [
              "153"
            ]
          },
          "metadata": {},
          "execution_count": 28
        }
      ]
    },
    {
      "cell_type": "code",
      "source": [
        " sns.boxplot(data=dravid[\"Runs\"], orient=\"h\")"
      ],
      "metadata": {
        "colab": {
          "base_uri": "https://localhost:8080/",
          "height": 466
        },
        "id": "4r07NCbVPmsm",
        "outputId": "64c8c0b4-ac9b-444c-ff6f-0047458a7dc3"
      },
      "execution_count": null,
      "outputs": [
        {
          "output_type": "execute_result",
          "data": {
            "text/plain": [
              "<Axes: xlabel='Runs'>"
            ]
          },
          "metadata": {},
          "execution_count": 29
        },
        {
          "output_type": "display_data",
          "data": {
            "text/plain": [
              "<Figure size 640x480 with 1 Axes>"
            ],
            "image/png": "[encoded data removed]"
          },
          "metadata": {}
        }
      ]
    },
    {
      "cell_type": "code",
      "source": [
        "# upper limit = Q3 + 1.5 * IQR\n",
        "\n",
        "upper_dravid = per_75 + 1.5*(iqr_dravid)\n",
        "upper_dravid"
      ],
      "metadata": {
        "colab": {
          "base_uri": "https://localhost:8080/"
        },
        "id": "yjB3S9wNQ6Hf",
        "outputId": "e3cd3cd7-be1b-41e7-e5e2-ca9ce1f312aa"
      },
      "execution_count": null,
      "outputs": [
        {
          "output_type": "execute_result",
          "data": {
            "text/plain": [
              "120.0"
            ]
          },
          "metadata": {},
          "execution_count": 30
        }
      ]
    },
    {
      "cell_type": "code",
      "source": [
        "# all the values greater than upper is outlier\n",
        "outliers_dravid = dravid[dravid[\"Runs\"]>upper_dravid]\n",
        "len(outliers_dravid)/len(dravid)"
      ],
      "metadata": {
        "colab": {
          "base_uri": "https://localhost:8080/"
        },
        "id": "fS5Qqn14PmjM",
        "outputId": "5b2957da-7505-49d2-c314-7bd51404e6bd"
      },
      "execution_count": null,
      "outputs": [
        {
          "output_type": "execute_result",
          "data": {
            "text/plain": [
              "0.009433962264150943"
            ]
          },
          "metadata": {},
          "execution_count": 31
        }
      ]
    },
    {
      "cell_type": "code",
      "source": [
        "outliers_dravid['Runs'].shape"
      ],
      "metadata": {
        "colab": {
          "base_uri": "https://localhost:8080/"
        },
        "id": "ZtlJilgQJa8b",
        "outputId": "61e54133-8540-47de-c151-875f964ad126"
      },
      "execution_count": null,
      "outputs": [
        {
          "output_type": "execute_result",
          "data": {
            "text/plain": [
              "(3,)"
            ]
          },
          "metadata": {},
          "execution_count": 32
        }
      ]
    },
    {
      "cell_type": "code",
      "source": [
        "dravid.shape"
      ],
      "metadata": {
        "colab": {
          "base_uri": "https://localhost:8080/"
        },
        "id": "EdR_6h9bJfAr",
        "outputId": "c4ccb78f-7329-44f2-8212-38fbcc154b4f"
      },
      "execution_count": null,
      "outputs": [
        {
          "output_type": "execute_result",
          "data": {
            "text/plain": [
              "(318, 14)"
            ]
          },
          "metadata": {},
          "execution_count": 33
        }
      ]
    },
    {
      "cell_type": "markdown",
      "source": [
        "### <font color='orange'>**Conclusion**</font>  \n",
        "\n",
        "Here we can observe that **0.9% values from the dataset are outliers**.  \n",
        "\n",
        "This means we can conclude that 0.9% times Dravid has scored more than the IQR which is 44 runs\n",
        "  \n",
        "<br>\n",
        "\n",
        "So we can conclude that in <font color='purple'>Sehwag case there is **6% outliers** and in Dravid's case there are only **0.9% outliers**</font>  \n",
        "\n",
        "which shows that \"<font color='orange'>**Dravid was more consistent than Sehwag**\"</font>  \n",
        "\n",
        "<br>\n",
        "\n",
        "Now let's calculate the standard deviation through which we can measure the amount of variation or dispersion in runs scored by Sachin and Dravid."
      ],
      "metadata": {
        "id": "nWFqIn-HRXVA"
      }
    },
    {
      "cell_type": "code",
      "source": [
        "std_dev_sehwag = np.std(sehwag[\"Runs\"])\n",
        "\n",
        "print(\"The amount of variations in runs scored by sehwag is:\",std_dev_sehwag)"
      ],
      "metadata": {
        "colab": {
          "base_uri": "https://localhost:8080/"
        },
        "id": "FDIRDbwXm-qJ",
        "outputId": "d18c146f-37d7-4f3b-e0aa-aad878002df0"
      },
      "execution_count": null,
      "outputs": [
        {
          "output_type": "stream",
          "name": "stdout",
          "text": [
            "The amount of variations in runs scored by sehwag is: 34.73830672594385\n"
          ]
        }
      ]
    },
    {
      "cell_type": "code",
      "source": [
        "std_dev_dravid = np.std(dravid[\"Runs\"])\n",
        "\n",
        "print(\"The amount of variations in runs scored by dravid is:\",std_dev_dravid)"
      ],
      "metadata": {
        "colab": {
          "base_uri": "https://localhost:8080/"
        },
        "id": "sIhs4BBVnBha",
        "outputId": "32377d6c-7f28-41fd-b4c2-cf6d0bb3ba9d"
      },
      "execution_count": null,
      "outputs": [
        {
          "output_type": "stream",
          "name": "stdout",
          "text": [
            "The amount of variations in runs scored by dravid is: 29.635116182506632\n"
          ]
        }
      ]
    },
    {
      "cell_type": "markdown",
      "source": [
        "Lower standard deviation indicates less variability in the batsman's performance.\n",
        "\n",
        "> **For Sehwag:**\n",
        "\n",
        "- Standard Deviation of Runs: 34.74.\n",
        "\n",
        "\n",
        "> **For Dravid:**\n",
        "\n",
        "- Standard Deviation of Runs: 29.64  \n",
        "\n",
        "<br>\n",
        "\n",
        "<font color='orange'>**Conclusion:**</font>  \n",
        "\n",
        "\n",
        "Dravid has a lower standard deviation compared to Sehwag.  \n",
        "\n",
        "This suggests that **Dravid's run scores are more consistent or less variable than Sehwag's**.   \n",
        "\n",
        "  - In other words, Dravid tends to have a more stable performance in terms of runs compared to Sehwag, who shows more variability in his run scores.\n",
        "\n",
        "<br>  \n",
        "\n",
        "So, from both **IQR method** and measuring **Standard Deviation** we can conclude that <font color='purple'>Dravid is more consitent then Sehwag</font>\n"
      ],
      "metadata": {
        "id": "CSAAxv87nFiB"
      }
    },
    {
      "cell_type": "markdown",
      "source": [
        "## <font color='purple'>**Random Variable (RV)**</font>:  \n"
      ],
      "metadata": {
        "id": "ZAwDBdVp6Gtt"
      }
    },
    {
      "cell_type": "markdown",
      "source": [
        "\n",
        "A random variable is a situation/event/experiment, for which we are not certain about the outcome.\n",
        "\n",
        "It is a way to assign numbers to the outcomes of such events.\n",
        "\n",
        "<br>\n",
        "\n",
        "They can further be divided into 2 types:\n",
        "- <font color='orange'>Discrete Random Variable</font>\n",
        "- <font color='orange'>Continuous Random Variable</font>"
      ],
      "metadata": {
        "id": "3W0pdid7kfYL"
      }
    },
    {
      "cell_type": "markdown",
      "source": [
        "#### <font color='purple'>**Examples of Discrete Random Variable**</font>\n",
        "\n",
        "Here, we can count the number of possible outcomes."
      ],
      "metadata": {
        "id": "vyRiC62z6RSW"
      }
    },
    {
      "cell_type": "markdown",
      "source": [
        "> <font color='purple'>**1. Coin Toss**</font>\n",
        "\n",
        "Let's consider a coin toss.\n",
        "\n",
        "<font color='purple'>**What are its possible outcomes?**</font>\n",
        "\n",
        "Heads and Tails.\n",
        "- There is no other possible other than this.\n",
        "\n",
        "Hence, we can represent its outcomes as a random variable, that can take values: $\\left \\{H, T \\right \\}$"
      ],
      "metadata": {
        "id": "nvdwUUSA72TN"
      }
    },
    {
      "cell_type": "markdown",
      "source": [
        "> <font color='purple'>**2. Throw of a dice**</font>\n",
        "\n",
        "- Let's assign a random variable, \"X,\" to represent the outcome of the die roll.\n",
        "- So, a throw of dice can be represented as: <font color='purple'>$X = \\left \\{ 1, 2, 3, 4, 5, 6 \\right \\}$</font>, depending on the outcome of the roll.\n",
        "- It can not have an outcome lesser than 1, or greater than 6\n",
        "- Or even, any decimal value between 1 and 2\n",
        "- Hence it is also discrete RV"
      ],
      "metadata": {
        "id": "bmqNHT0z77Ig"
      }
    },
    {
      "cell_type": "markdown",
      "source": [
        "#### <font color='purple'>**Examples of Continuous Random Variable**</font>\n",
        "\n",
        "Here, we cannot count the number of possible outcomes. They are infinite."
      ],
      "metadata": {
        "id": "vn6f_P9H7_zv"
      }
    },
    {
      "cell_type": "markdown",
      "source": [
        "> <font color='purple'>**1. Height of students in a class**</font>\n",
        "\n",
        "- Suppose the lowest student height in the class is: 4.5 feet\n",
        "- Suppose the highest student height is: 5.9 feet\n",
        "\n",
        "Now, we can have students that have height as\n",
        "- 4.511 feet\n",
        "- 4.92 feet\n",
        "- 5.8555 feet\n",
        "\n",
        "So, we have an infinite number of possible height values between 4.5 and 5.9 feet. We cannot count them\n",
        "\n",
        "Whereas, we could count the number of possibilities in a coin toss or dice throw."
      ],
      "metadata": {
        "id": "0GJ6v6J38EDA"
      }
    },
    {
      "cell_type": "markdown",
      "source": [
        "\n",
        "> <font color='purple'>**Other examples of Continuous RV can be:**</font>\n",
        "- Temperature of a room\n",
        "- Time taken to complete a task\n",
        "- Distance travelled\n",
        "\n",
        "...etc\n",
        "\n",
        "---"
      ],
      "metadata": {
        "id": "aNPCXpy58Hc3"
      }
    },
    {
      "cell_type": "markdown",
      "source": [
        "<br>"
      ],
      "metadata": {
        "id": "cK4EaHMmlKEz"
      }
    },
    {
      "cell_type": "markdown",
      "source": [
        "<br>\n",
        "<br>\n",
        "<br>\n"
      ],
      "metadata": {
        "id": "C2vCZ0tnWCnv"
      }
    },
    {
      "cell_type": "markdown",
      "source": [],
      "metadata": {
        "id": "9cIDyfTSWCkp"
      }
    },
    {
      "cell_type": "markdown",
      "source": [],
      "metadata": {
        "id": "nkdH3YXsWCe7"
      }
    },
    {
      "cell_type": "markdown",
      "source": [],
      "metadata": {
        "id": "dwRGxIt4WCWF"
      }
    },
    {
      "cell_type": "markdown",
      "source": [],
      "metadata": {
        "id": "wd_6c0uBWCHi"
      }
    }
  ]
}
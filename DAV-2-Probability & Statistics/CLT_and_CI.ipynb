{
  "nbformat": 4,
  "nbformat_minor": 0,
  "metadata": {
    "colab": {
      "provenance": [],
      "include_colab_link": true
    },
    "kernelspec": {
      "name": "python3",
      "display_name": "Python 3"
    },
    "language_info": {
      "name": "python"
    }
  },
  "cells": [
    {
      "cell_type": "markdown",
      "metadata": {
        "id": "view-in-github",
        "colab_type": "text"
      },
      "source": [
        "<a href=\"https://colab.research.google.com/github/tarini-py/Data-Science-Machine-Learning-DSML/blob/main/CLT_and_CI.ipynb\" target=\"_parent\"><img src=\"https://colab.research.google.com/assets/colab-badge.svg\" alt=\"Open In Colab\"/></a>"
      ]
    },
    {
      "cell_type": "code",
      "execution_count": null,
      "metadata": {
        "id": "w4Toj_VdM-LD"
      },
      "outputs": [],
      "source": [
        "import pandas as pd\n",
        "import numpy as np\n",
        "import matplotlib.pyplot as plt\n",
        "import seaborn as sns\n",
        "import warnings\n",
        "warnings.filterwarnings('ignore')\n",
        "from scipy.stats import norm"
      ]
    },
    {
      "cell_type": "code",
      "source": [
        "!wget --no-check-certificate https://drive.google.com/uc?id=1Mrt008vkE4nVb1zE4f06_rtq70QPfkIo -O weight-height.csv\n"
      ],
      "metadata": {
        "colab": {
          "base_uri": "https://localhost:8080/"
        },
        "id": "IZUzNDetNh3Y",
        "outputId": "06998b44-645a-4735-94cc-e0bdd279e920"
      },
      "execution_count": null,
      "outputs": [
        {
          "output_type": "stream",
          "name": "stdout",
          "text": [
            "--2025-09-08 16:02:06--  https://drive.google.com/uc?id=1Mrt008vkE4nVb1zE4f06_rtq70QPfkIo\n",
            "Resolving drive.google.com (drive.google.com)... 192.178.163.101, 192.178.163.113, 192.178.163.102, ...\n",
            "Connecting to drive.google.com (drive.google.com)|192.178.163.101|:443... connected.\n",
            "HTTP request sent, awaiting response... 303 See Other\n",
            "Location: https://drive.usercontent.google.com/download?id=1Mrt008vkE4nVb1zE4f06_rtq70QPfkIo [following]\n",
            "--2025-09-08 16:02:06--  https://drive.usercontent.google.com/download?id=1Mrt008vkE4nVb1zE4f06_rtq70QPfkIo\n",
            "Resolving drive.usercontent.google.com (drive.usercontent.google.com)... 173.194.203.132, 2607:f8b0:400e:c05::84\n",
            "Connecting to drive.usercontent.google.com (drive.usercontent.google.com)|173.194.203.132|:443... connected.\n",
            "HTTP request sent, awaiting response... 200 OK\n",
            "Length: 428120 (418K) [application/octet-stream]\n",
            "Saving to: ‘weight-height.csv’\n",
            "\n",
            "weight-height.csv   100%[===================>] 418.09K  --.-KB/s    in 0.004s  \n",
            "\n",
            "2025-09-08 16:02:07 (101 MB/s) - ‘weight-height.csv’ saved [428120/428120]\n",
            "\n"
          ]
        }
      ]
    },
    {
      "cell_type": "code",
      "source": [
        "df_hw=pd.read_csv('weight-height.csv')"
      ],
      "metadata": {
        "id": "ummkApcVNqJZ"
      },
      "execution_count": null,
      "outputs": []
    },
    {
      "cell_type": "code",
      "source": [
        "df_height=df_hw['Height']"
      ],
      "metadata": {
        "id": "4ACxbOA2EIRC"
      },
      "execution_count": null,
      "outputs": []
    },
    {
      "cell_type": "code",
      "source": [
        "sns.histplot(df_height)"
      ],
      "metadata": {
        "colab": {
          "base_uri": "https://localhost:8080/",
          "height": 467
        },
        "id": "bKMr5yeEEPiy",
        "outputId": "7e88abc7-e7c7-4a1e-eb62-b2e27557dc4b"
      },
      "execution_count": null,
      "outputs": [
        {
          "output_type": "execute_result",
          "data": {
            "text/plain": [
              "<Axes: xlabel='Height', ylabel='Count'>"
            ]
          },
          "metadata": {},
          "execution_count": 7
        },
        {
          "output_type": "display_data",
          "data": {
            "text/plain": [
              "<Figure size 640x480 with 1 Axes>"
            ],
            "image/png": "[encoded data removed]"
          },
          "metadata": {}
        }
      ]
    },
    {
      "cell_type": "code",
      "source": [
        "mu=df_height.mean()"
      ],
      "metadata": {
        "id": "DZ-tefWtETCU"
      },
      "execution_count": null,
      "outputs": []
    },
    {
      "cell_type": "code",
      "source": [
        "mu"
      ],
      "metadata": {
        "colab": {
          "base_uri": "https://localhost:8080/"
        },
        "id": "C3wMRf5hEctn",
        "outputId": "aee5127b-6cc7-448f-c0bb-c8ece85ad355"
      },
      "execution_count": null,
      "outputs": [
        {
          "output_type": "execute_result",
          "data": {
            "text/plain": [
              "np.float64(66.36755975482124)"
            ]
          },
          "metadata": {},
          "execution_count": 9
        }
      ]
    },
    {
      "cell_type": "code",
      "source": [
        "sigma=df_height.std()"
      ],
      "metadata": {
        "id": "bQoq5mfZEdXc"
      },
      "execution_count": null,
      "outputs": []
    },
    {
      "cell_type": "code",
      "source": [
        "sigma"
      ],
      "metadata": {
        "colab": {
          "base_uri": "https://localhost:8080/"
        },
        "id": "R8YoUxjhEhQK",
        "outputId": "737217b8-43ef-4ec3-e4e9-afc5263e14c8"
      },
      "execution_count": null,
      "outputs": [
        {
          "output_type": "execute_result",
          "data": {
            "text/plain": [
              "3.8475281207732324"
            ]
          },
          "metadata": {},
          "execution_count": 11
        }
      ]
    },
    {
      "cell_type": "code",
      "source": [
        "sample_5=[np.mean(df_height.sample(5)) for i in range(10000)]\n",
        "sns.histplot(sample_5)"
      ],
      "metadata": {
        "colab": {
          "base_uri": "https://localhost:8080/",
          "height": 448
        },
        "id": "Et-cvcFDEioy",
        "outputId": "d0963ca5-ea56-4ada-ec73-d98374127ea5"
      },
      "execution_count": null,
      "outputs": [
        {
          "output_type": "execute_result",
          "data": {
            "text/plain": [
              "<Axes: ylabel='Count'>"
            ]
          },
          "metadata": {},
          "execution_count": 12
        },
        {
          "output_type": "display_data",
          "data": {
            "text/plain": [
              "<Figure size 640x480 with 1 Axes>"
            ],
            "image/png": "[encoded data removed]"
          },
          "metadata": {}
        }
      ]
    },
    {
      "cell_type": "code",
      "source": [
        "np.mean(sample_5)"
      ],
      "metadata": {
        "colab": {
          "base_uri": "https://localhost:8080/"
        },
        "id": "WG6Kysp3E8CU",
        "outputId": "a4181fc6-b127-4394-ef03-d2c05479c664"
      },
      "execution_count": null,
      "outputs": [
        {
          "output_type": "execute_result",
          "data": {
            "text/plain": [
              "np.float64(66.36073133224346)"
            ]
          },
          "metadata": {},
          "execution_count": 13
        }
      ]
    },
    {
      "cell_type": "code",
      "source": [
        "sample_20 = [np.mean(df_height.sample(20)) for i in range(10000) ]\n",
        "\n",
        "sns.histplot(sample_20, kde=True)"
      ],
      "metadata": {
        "colab": {
          "base_uri": "https://localhost:8080/",
          "height": 448
        },
        "id": "809x3c4WFNwu",
        "outputId": "dc65c325-9c6b-4faa-89ff-d3b727814ad8"
      },
      "execution_count": null,
      "outputs": [
        {
          "output_type": "execute_result",
          "data": {
            "text/plain": [
              "<Axes: ylabel='Count'>"
            ]
          },
          "metadata": {},
          "execution_count": 14
        },
        {
          "output_type": "display_data",
          "data": {
            "text/plain": [
              "<Figure size 640x480 with 1 Axes>"
            ],
            "image/png": "[encoded data removed]"
          },
          "metadata": {}
        }
      ]
    },
    {
      "cell_type": "code",
      "source": [
        "np.mean(sample_20)"
      ],
      "metadata": {
        "colab": {
          "base_uri": "https://localhost:8080/"
        },
        "id": "fkiBKTF7FdT3",
        "outputId": "cbc57089-af00-4532-adbb-89a541da5d9f"
      },
      "execution_count": null,
      "outputs": [
        {
          "output_type": "execute_result",
          "data": {
            "text/plain": [
              "np.float64(66.36553234795558)"
            ]
          },
          "metadata": {},
          "execution_count": 15
        }
      ]
    },
    {
      "cell_type": "code",
      "source": [
        "import numpy as np\n",
        "import matplotlib.pyplot as plt\n",
        "from scipy.stats import norm\n",
        "\n",
        "# Parameters\n",
        "n_samples = 10000    # number of total samples\n",
        "sample_size = 30     # sample size for CLT\n",
        "\n",
        "# Step 1: Generate Uniform(0,1) samples\n",
        "uniform_data = np.random.uniform(0, 1, n_samples)\n",
        "\n",
        "# Step 2: Plot the Uniform distribution\n",
        "plt.figure(figsize=(12,5))\n",
        "\n",
        "plt.subplot(1,2,1)\n",
        "plt.hist(uniform_data, bins=50, density=True, color=\"skyblue\", edgecolor=\"black\", alpha=0.7)\n",
        "plt.title(\"Original Uniform(0,1) Distribution\")\n",
        "plt.xlabel(\"Value\")\n",
        "plt.ylabel(\"Density\")\n",
        "\n",
        "# Step 3: Apply CLT - take repeated samples and compute their means\n",
        "uniform_samples = np.random.uniform(0, 1, (n_samples, sample_size))\n",
        "sample_means = uniform_samples.mean(axis=1)\n",
        "\n",
        "# Step 4: Theoretical normal distribution parameters\n",
        "mu = np.mean(sample_means)       # should be close to 0.5\n",
        "sigma = np.std(sample_means)     # should be close to sqrt(1/12n)\n",
        "\n",
        "x = np.linspace(min(sample_means), max(sample_means), 200)\n",
        "pdf = norm.pdf(x, mu, sigma)\n",
        "\n",
        "# Step 5: Plot the \"converted\" normal distribution\n",
        "plt.subplot(1,2,2)\n",
        "plt.hist(sample_means, bins=50, density=True, color=\"lightcoral\", edgecolor=\"black\", alpha=0.6, label=\"Sample Means (CLT)\")\n",
        "plt.plot(x, pdf, 'b-', lw=2, label=f\"Normal PDF (μ={mu:.2f}, σ={sigma:.2f})\")\n",
        "plt.title(f\"CLT: Uniform(0,1) → Normal (sample size={sample_size})\")\n",
        "plt.xlabel(\"Sample Mean\")\n",
        "plt.ylabel(\"Density\")\n",
        "plt.legend()\n",
        "\n",
        "plt.tight_layout()\n",
        "plt.show()\n"
      ],
      "metadata": {
        "colab": {
          "base_uri": "https://localhost:8080/",
          "height": 420
        },
        "id": "S21G88TyFlH3",
        "outputId": "60c9e8ad-875f-4f92-bad2-cbcb1a0d235d"
      },
      "execution_count": null,
      "outputs": [
        {
          "output_type": "display_data",
          "data": {
            "text/plain": [
              "<Figure size 1200x500 with 2 Axes>"
            ],
            "image/png": "[encoded data removed]"
          },
          "metadata": {}
        }
      ]
    },
    {
      "cell_type": "code",
      "source": [],
      "metadata": {
        "id": "O49-oK1oGtGX"
      },
      "execution_count": null,
      "outputs": []
    },
    {
      "cell_type": "markdown",
      "source": [
        "# Systolic blood pressure of a group of people is known to have an average of 122 mmHg\n",
        "and a standard deviation of 10 mmHg.\n",
        "Calculate the probability that the average blood pressure of 16 people will be greater than 125 mmHg.  \n",
        "\n"
      ],
      "metadata": {
        "id": "E5pudP2RKbI8"
      }
    },
    {
      "cell_type": "markdown",
      "source": [
        "Systolic blood pressure of a group of people is known to have an average of 122 mmHg\n",
        "and a standard deviation of 10 mmHg.\n",
        "Calculate the probability that the average blood pressure of 16 people will be greater than 125 mmHg.  \n",
        "\n"
      ],
      "metadata": {
        "id": "-fG1zTtaKdyv"
      }
    },
    {
      "cell_type": "code",
      "source": [
        "u=122\n",
        "x=125\n",
        "sigma=10/np.sqrt(16)\n",
        "sigma"
      ],
      "metadata": {
        "colab": {
          "base_uri": "https://localhost:8080/"
        },
        "id": "q01yBSnYKchz",
        "outputId": "655dc5f4-f95e-4f0e-ed6b-84f89736d039"
      },
      "execution_count": null,
      "outputs": [
        {
          "output_type": "execute_result",
          "data": {
            "text/plain": [
              "np.float64(2.5)"
            ]
          },
          "metadata": {},
          "execution_count": 17
        }
      ]
    },
    {
      "cell_type": "code",
      "source": [
        "# P(X>125) = 1-P(X<125)\n",
        "\n",
        "z=(125-122)/2.5"
      ],
      "metadata": {
        "id": "04HzCpIWMfQ1"
      },
      "execution_count": null,
      "outputs": []
    },
    {
      "cell_type": "code",
      "source": [
        "z"
      ],
      "metadata": {
        "colab": {
          "base_uri": "https://localhost:8080/"
        },
        "id": "e4ERIAhqMpSt",
        "outputId": "fc20cb3d-a7d8-4ab4-8aec-a6455467d1dc"
      },
      "execution_count": null,
      "outputs": [
        {
          "output_type": "execute_result",
          "data": {
            "text/plain": [
              "1.2"
            ]
          },
          "metadata": {},
          "execution_count": 19
        }
      ]
    },
    {
      "cell_type": "code",
      "source": [
        "norm.cdf(z)"
      ],
      "metadata": {
        "colab": {
          "base_uri": "https://localhost:8080/"
        },
        "id": "DC-p2BBpMqWh",
        "outputId": "43727c7e-c729-406d-8c31-711b72f3ec22"
      },
      "execution_count": null,
      "outputs": [
        {
          "output_type": "execute_result",
          "data": {
            "text/plain": [
              "np.float64(0.8849303297782918)"
            ]
          },
          "metadata": {},
          "execution_count": 20
        }
      ]
    },
    {
      "cell_type": "code",
      "source": [
        "1-norm.cdf(z)"
      ],
      "metadata": {
        "colab": {
          "base_uri": "https://localhost:8080/"
        },
        "id": "n2Bw2tK0MsWS",
        "outputId": "426e146f-7627-48f9-8a39-3e6b732c5e8f"
      },
      "execution_count": null,
      "outputs": [
        {
          "output_type": "execute_result",
          "data": {
            "text/plain": [
              "np.float64(0.11506967022170822)"
            ]
          },
          "metadata": {},
          "execution_count": 21
        }
      ]
    },
    {
      "cell_type": "code",
      "source": [
        "z2=norm.ppf(1-0.025)"
      ],
      "metadata": {
        "id": "XEg1b-KmMvmI"
      },
      "execution_count": null,
      "outputs": []
    },
    {
      "cell_type": "code",
      "source": [
        "z2"
      ],
      "metadata": {
        "colab": {
          "base_uri": "https://localhost:8080/"
        },
        "id": "6J2kOismUNGX",
        "outputId": "89165089-6834-416d-a633-55a831be5119"
      },
      "execution_count": null,
      "outputs": [
        {
          "output_type": "execute_result",
          "data": {
            "text/plain": [
              "np.float64(1.959963984540054)"
            ]
          },
          "metadata": {},
          "execution_count": 29
        }
      ]
    },
    {
      "cell_type": "code",
      "source": [
        "u=45\n",
        "sigma=10\n",
        "n=80\n",
        "\n",
        "se=10/np.sqrt(80)"
      ],
      "metadata": {
        "id": "63zRvz2dUN2u"
      },
      "execution_count": null,
      "outputs": []
    },
    {
      "cell_type": "code",
      "source": [
        "se"
      ],
      "metadata": {
        "colab": {
          "base_uri": "https://localhost:8080/"
        },
        "id": "QnHRzGQsV0xr",
        "outputId": "f9ab2cc1-5bc6-4336-8ee1-d8a917f8b583"
      },
      "execution_count": null,
      "outputs": [
        {
          "output_type": "execute_result",
          "data": {
            "text/plain": [
              "np.float64(1.118033988749895)"
            ]
          },
          "metadata": {},
          "execution_count": 31
        }
      ]
    },
    {
      "cell_type": "code",
      "source": [
        "# 90% confidence interval is given\n",
        "\n",
        "z1=norm.ppf(0.05)\n",
        "x1=45+z1*se"
      ],
      "metadata": {
        "id": "d44jNgbOV1al"
      },
      "execution_count": null,
      "outputs": []
    },
    {
      "cell_type": "code",
      "source": [
        "x1"
      ],
      "metadata": {
        "colab": {
          "base_uri": "https://localhost:8080/"
        },
        "id": "7fZB1es3WPzf",
        "outputId": "2c362fd3-f12c-449a-f017-35bdd25d3f00"
      },
      "execution_count": null,
      "outputs": [
        {
          "output_type": "execute_result",
          "data": {
            "text/plain": [
              "np.float64(43.16099773854971)"
            ]
          },
          "metadata": {},
          "execution_count": 33
        }
      ]
    },
    {
      "cell_type": "code",
      "source": [
        "z2=norm.ppf(1-0.05)\n",
        "x2=45+z2*se\n",
        "x2"
      ],
      "metadata": {
        "colab": {
          "base_uri": "https://localhost:8080/"
        },
        "id": "g3zON7elWQlu",
        "outputId": "f0d63f16-9008-4578-c58c-cda4c2e74929"
      },
      "execution_count": null,
      "outputs": [
        {
          "output_type": "execute_result",
          "data": {
            "text/plain": [
              "np.float64(46.83900226145029)"
            ]
          },
          "metadata": {},
          "execution_count": 34
        }
      ]
    },
    {
      "cell_type": "code",
      "source": [
        "norm.interval(0.90,loc=45,scale=se)"
      ],
      "metadata": {
        "colab": {
          "base_uri": "https://localhost:8080/"
        },
        "id": "8I-aQLILWZms",
        "outputId": "167f3084-657f-4ee8-b07e-50d409c23339"
      },
      "execution_count": null,
      "outputs": [
        {
          "output_type": "execute_result",
          "data": {
            "text/plain": [
              "(np.float64(43.16099773854971), np.float64(46.83900226145029))"
            ]
          },
          "metadata": {},
          "execution_count": 35
        }
      ]
    },
    {
      "cell_type": "code",
      "source": [],
      "metadata": {
        "id": "3Q6pZLC3Wud7"
      },
      "execution_count": null,
      "outputs": []
    },
    {
      "cell_type": "markdown",
      "source": [
        "The mean height of a sample of 100 adults was found to be 65 inches,\n",
        "with a standard deviation of 2.5 inches.\n",
        "Compute 95% confidence interval"
      ],
      "metadata": {
        "id": "Ll9tsZfPXjYv"
      }
    },
    {
      "cell_type": "code",
      "source": [
        "norm.interval(0.95,loc=65,scale=2.5/np.sqrt(100))"
      ],
      "metadata": {
        "colab": {
          "base_uri": "https://localhost:8080/"
        },
        "id": "tJ7aDlGuXkB3",
        "outputId": "a84f04b7-714d-4532-95f2-601edee35632"
      },
      "execution_count": null,
      "outputs": [
        {
          "output_type": "execute_result",
          "data": {
            "text/plain": [
              "(np.float64(64.51000900386498), np.float64(65.48999099613502))"
            ]
          },
          "metadata": {},
          "execution_count": 36
        }
      ]
    },
    {
      "cell_type": "code",
      "source": [],
      "metadata": {
        "id": "GsifNNJ8ZvBF"
      },
      "execution_count": null,
      "outputs": []
    }
  ]
}